{
 "cells": [
  {
   "cell_type": "code",
   "execution_count": 1,
   "metadata": {},
   "outputs": [],
   "source": [
    "import pandas as pd\n",
    "import matplotlib.pyplot as plt\n",
    "import numpy as np"
   ]
  },
  {
   "cell_type": "markdown",
   "metadata": {},
   "source": [
    "# Loading all the cleaned datasets"
   ]
  },
  {
   "cell_type": "code",
   "execution_count": 2,
   "metadata": {},
   "outputs": [],
   "source": [
    "set1_1 = pd.read_csv('./csv/set1_1done.csv',index_col = 0) \n",
    "set1_1['set'] = '1_1'\n",
    "set1_2 = pd.read_csv('./csv/set1_2done.csv', index_col=0) \n",
    "set1_2['set'] = '1_2'\n",
    "set1_3 = pd.read_csv('./csv/set1_3done.csv', index_col=0) \n",
    "set1_3['set'] = '1_3'\n",
    "\n",
    "set1_4 = pd.read_csv('./csv/set1_4done.csv', index_col=0) \n",
    "set1_4['set'] = '1_4'\n",
    "\n",
    "set2_1 = pd.read_csv('./csv/set2_1done.csv', index_col=0) \n",
    "set2_1['set'] = '2_1'\n",
    "\n",
    "set2_2 = pd.read_csv('./csv/set2_2done.csv', index_col=0)\n",
    "set2_1['set'] = '2_2'\n",
    "\n",
    "set2_3 = pd.read_csv('./csv/set2_3done.csv', index_col=0) \n",
    "set2_1['set'] = '2_3'\n",
    "\n",
    "set3_1 = pd.read_csv('./csv/set3_1done.csv', index_col=0)\n",
    "set3_1['set'] = '3_1'\n",
    "\n",
    "set3_2 = pd.read_csv('./csv/set3_2done.csv', index_col=0) \n",
    "set3_2['set'] = '3_2'\n",
    "\n",
    "set3_3 = pd.read_csv('./csv/set3_3done.csv', index_col=0) \n",
    "set3_3['set'] = '3_3'\n",
    "\n",
    "set4_1 = pd.read_csv('./csv/set4_1done.csv', index_col=0) \n",
    "set4_1['set'] = '4_1'\n",
    "\n",
    "set4_2 = pd.read_csv('./csv/set4_2done.csv', index_col=0) \n",
    "set4_2['set'] = '4_2'\n",
    "\n",
    "set4_3 = pd.read_csv('./csv/set4_3done.csv', index_col=0) \n",
    "set4_3['set'] = '4_3'\n"
   ]
  },
  {
   "cell_type": "code",
   "execution_count": 4,
   "metadata": {},
   "outputs": [
    {
     "data": {
      "text/html": [
       "<div>\n",
       "<style scoped>\n",
       "    .dataframe tbody tr th:only-of-type {\n",
       "        vertical-align: middle;\n",
       "    }\n",
       "\n",
       "    .dataframe tbody tr th {\n",
       "        vertical-align: top;\n",
       "    }\n",
       "\n",
       "    .dataframe thead th {\n",
       "        text-align: right;\n",
       "    }\n",
       "</style>\n",
       "<table border=\"1\" class=\"dataframe\">\n",
       "  <thead>\n",
       "    <tr style=\"text-align: right;\">\n",
       "      <th></th>\n",
       "      <th>bookingID</th>\n",
       "      <th>Accuracy</th>\n",
       "      <th>Bearing</th>\n",
       "      <th>acceleration_x</th>\n",
       "      <th>acceleration_y</th>\n",
       "      <th>acceleration_z</th>\n",
       "      <th>gyro_x</th>\n",
       "      <th>gyro_y</th>\n",
       "      <th>gyro_z</th>\n",
       "      <th>second</th>\n",
       "      <th>Speed</th>\n",
       "    </tr>\n",
       "  </thead>\n",
       "  <tbody>\n",
       "    <tr>\n",
       "      <th>count</th>\n",
       "      <td>7.194164e+06</td>\n",
       "      <td>7.077251e+06</td>\n",
       "      <td>7.034273e+06</td>\n",
       "      <td>7.194164e+06</td>\n",
       "      <td>7.194164e+06</td>\n",
       "      <td>7.194164e+06</td>\n",
       "      <td>7.194164e+06</td>\n",
       "      <td>7.194164e+06</td>\n",
       "      <td>7.194164e+06</td>\n",
       "      <td>7.194164e+06</td>\n",
       "      <td>7.194164e+06</td>\n",
       "    </tr>\n",
       "    <tr>\n",
       "      <th>mean</th>\n",
       "      <td>8.182724e+11</td>\n",
       "      <td>1.013008e+01</td>\n",
       "      <td>1.689678e+02</td>\n",
       "      <td>6.777408e-02</td>\n",
       "      <td>4.457620e+00</td>\n",
       "      <td>8.896588e-01</td>\n",
       "      <td>-1.738069e-03</td>\n",
       "      <td>-1.271499e-04</td>\n",
       "      <td>-3.658102e-04</td>\n",
       "      <td>6.008619e+02</td>\n",
       "      <td>9.022868e+00</td>\n",
       "    </tr>\n",
       "    <tr>\n",
       "      <th>std</th>\n",
       "      <td>4.951463e+11</td>\n",
       "      <td>6.260076e+01</td>\n",
       "      <td>1.072781e+02</td>\n",
       "      <td>1.350015e+00</td>\n",
       "      <td>8.068016e+00</td>\n",
       "      <td>3.173510e+00</td>\n",
       "      <td>1.000226e-01</td>\n",
       "      <td>1.781302e-01</td>\n",
       "      <td>1.026586e-01</td>\n",
       "      <td>4.615592e+02</td>\n",
       "      <td>8.104775e+00</td>\n",
       "    </tr>\n",
       "    <tr>\n",
       "      <th>min</th>\n",
       "      <td>0.000000e+00</td>\n",
       "      <td>7.500000e-01</td>\n",
       "      <td>0.000000e+00</td>\n",
       "      <td>-9.999999e+00</td>\n",
       "      <td>-1.999507e+01</td>\n",
       "      <td>-1.499623e+01</td>\n",
       "      <td>-9.998474e-01</td>\n",
       "      <td>-5.989435e+00</td>\n",
       "      <td>-6.938964e+00</td>\n",
       "      <td>0.000000e+00</td>\n",
       "      <td>-1.547627e+01</td>\n",
       "    </tr>\n",
       "    <tr>\n",
       "      <th>25%</th>\n",
       "      <td>3.779571e+11</td>\n",
       "      <td>3.900000e+00</td>\n",
       "      <td>7.800000e+01</td>\n",
       "      <td>-5.051765e-01</td>\n",
       "      <td>-1.925577e+00</td>\n",
       "      <td>-9.233101e-01</td>\n",
       "      <td>-2.654852e-02</td>\n",
       "      <td>-2.970117e-02</td>\n",
       "      <td>-1.846768e-02</td>\n",
       "      <td>2.410000e+02</td>\n",
       "      <td>1.042856e+00</td>\n",
       "    </tr>\n",
       "    <tr>\n",
       "      <th>50%</th>\n",
       "      <td>8.074539e+11</td>\n",
       "      <td>4.205000e+00</td>\n",
       "      <td>1.688074e+02</td>\n",
       "      <td>6.190796e-02</td>\n",
       "      <td>9.088211e+00</td>\n",
       "      <td>7.781393e-01</td>\n",
       "      <td>-6.548475e-04</td>\n",
       "      <td>2.593994e-04</td>\n",
       "      <td>-2.443045e-05</td>\n",
       "      <td>5.190000e+02</td>\n",
       "      <td>7.560000e+00</td>\n",
       "    </tr>\n",
       "    <tr>\n",
       "      <th>75%</th>\n",
       "      <td>1.254130e+12</td>\n",
       "      <td>8.000000e+00</td>\n",
       "      <td>2.628749e+02</td>\n",
       "      <td>6.320692e-01</td>\n",
       "      <td>9.709717e+00</td>\n",
       "      <td>2.745844e+00</td>\n",
       "      <td>2.307129e-02</td>\n",
       "      <td>3.108388e-02</td>\n",
       "      <td>1.810910e-02</td>\n",
       "      <td>8.610000e+02</td>\n",
       "      <td>1.549360e+01</td>\n",
       "    </tr>\n",
       "    <tr>\n",
       "      <th>max</th>\n",
       "      <td>1.709397e+12</td>\n",
       "      <td>1.500000e+03</td>\n",
       "      <td>3.599995e+02</td>\n",
       "      <td>1.339649e+01</td>\n",
       "      <td>2.493920e+01</td>\n",
       "      <td>1.499944e+01</td>\n",
       "      <td>1.311228e+00</td>\n",
       "      <td>5.996460e+00</td>\n",
       "      <td>6.690163e+00</td>\n",
       "      <td>8.234000e+03</td>\n",
       "      <td>9.244882e+01</td>\n",
       "    </tr>\n",
       "  </tbody>\n",
       "</table>\n",
       "</div>"
      ],
      "text/plain": [
       "          bookingID      Accuracy       Bearing  acceleration_x  \\\n",
       "count  7.194164e+06  7.077251e+06  7.034273e+06    7.194164e+06   \n",
       "mean   8.182724e+11  1.013008e+01  1.689678e+02    6.777408e-02   \n",
       "std    4.951463e+11  6.260076e+01  1.072781e+02    1.350015e+00   \n",
       "min    0.000000e+00  7.500000e-01  0.000000e+00   -9.999999e+00   \n",
       "25%    3.779571e+11  3.900000e+00  7.800000e+01   -5.051765e-01   \n",
       "50%    8.074539e+11  4.205000e+00  1.688074e+02    6.190796e-02   \n",
       "75%    1.254130e+12  8.000000e+00  2.628749e+02    6.320692e-01   \n",
       "max    1.709397e+12  1.500000e+03  3.599995e+02    1.339649e+01   \n",
       "\n",
       "       acceleration_y  acceleration_z        gyro_x        gyro_y  \\\n",
       "count    7.194164e+06    7.194164e+06  7.194164e+06  7.194164e+06   \n",
       "mean     4.457620e+00    8.896588e-01 -1.738069e-03 -1.271499e-04   \n",
       "std      8.068016e+00    3.173510e+00  1.000226e-01  1.781302e-01   \n",
       "min     -1.999507e+01   -1.499623e+01 -9.998474e-01 -5.989435e+00   \n",
       "25%     -1.925577e+00   -9.233101e-01 -2.654852e-02 -2.970117e-02   \n",
       "50%      9.088211e+00    7.781393e-01 -6.548475e-04  2.593994e-04   \n",
       "75%      9.709717e+00    2.745844e+00  2.307129e-02  3.108388e-02   \n",
       "max      2.493920e+01    1.499944e+01  1.311228e+00  5.996460e+00   \n",
       "\n",
       "             gyro_z        second         Speed  \n",
       "count  7.194164e+06  7.194164e+06  7.194164e+06  \n",
       "mean  -3.658102e-04  6.008619e+02  9.022868e+00  \n",
       "std    1.026586e-01  4.615592e+02  8.104775e+00  \n",
       "min   -6.938964e+00  0.000000e+00 -1.547627e+01  \n",
       "25%   -1.846768e-02  2.410000e+02  1.042856e+00  \n",
       "50%   -2.443045e-05  5.190000e+02  7.560000e+00  \n",
       "75%    1.810910e-02  8.610000e+02  1.549360e+01  \n",
       "max    6.690163e+00  8.234000e+03  9.244882e+01  "
      ]
     },
     "execution_count": 4,
     "metadata": {},
     "output_type": "execute_result"
    }
   ],
   "source": [
    "frames = [set1_1 , set1_2, set1_3, set1_4, set2_1, set2_2, set2_3, set3_1, set3_2, set3_3, set4_1, set4_2, set4_3]\n",
    "df = pd.concat(frames)\n",
    "df.isnull().sum(axis = 0)\n",
    "df = df.dropna(subset = ['second']) # dropping null values in second column\n",
    "df = df.drop(columns=['ID'], axis = 1)\n",
    "df = df.reset_index(drop=True)\n",
    "df.describe()"
   ]
  },
  {
   "cell_type": "markdown",
   "metadata": {},
   "source": [
    "# Replacing null values in Accuracy Column by the mode of its repesctive bookingID"
   ]
  },
  {
   "cell_type": "code",
   "execution_count": 5,
   "metadata": {},
   "outputs": [
    {
     "name": "stderr",
     "output_type": "stream",
     "text": [
      "C:\\Python38\\lib\\site-packages\\pandas\\core\\frame.py:3607: SettingWithCopyWarning: \n",
      "A value is trying to be set on a copy of a slice from a DataFrame.\n",
      "Try using .loc[row_indexer,col_indexer] = value instead\n",
      "\n",
      "See the caveats in the documentation: https://pandas.pydata.org/pandas-docs/stable/user_guide/indexing.html#returning-a-view-versus-a-copy\n",
      "  self._set_item(key, value)\n"
     ]
    }
   ],
   "source": [
    "justnullsdf = df[df['Accuracy'].isnull()]\n",
    "bookingids = justnullsdf['bookingID'].unique() # get all the bookingids that have null values inside them\n",
    "for bookingid in bookingids:\n",
    "    bookingidx = df[df['bookingID']==bookingid] # making a datfarame with bookingID = x\n",
    "    mode = bookingidx.mode()['Accuracy'][0]\n",
    "    nulldf = bookingidx[bookingidx['Accuracy'].isnull()]\n",
    "    for ind in nulldf.index: #retrieve the index of the row with Accuracy = NULL\n",
    "        bookingidx['Accuracy'] = bookingidx['Accuracy'].fillna(mode)\n",
    "        df.at[ind,'Accuracy'] = mode # this is to assign estimated value to the corresponding record IN THE SET"
   ]
  },
  {
   "cell_type": "markdown",
   "metadata": {},
   "source": [
    "# Replacing null values in Bearing Column by 0"
   ]
  },
  {
   "cell_type": "code",
   "execution_count": 6,
   "metadata": {},
   "outputs": [],
   "source": [
    "df['Bearing'] = df['Bearing'].fillna(0)"
   ]
  },
  {
   "cell_type": "code",
   "execution_count": 7,
   "metadata": {},
   "outputs": [],
   "source": [
    "df = df.drop(columns=['set'], axis = 1)"
   ]
  },
  {
   "cell_type": "code",
   "execution_count": 8,
   "metadata": {},
   "outputs": [
    {
     "data": {
      "text/plain": [
       "bookingID         0\n",
       "Accuracy          0\n",
       "Bearing           0\n",
       "acceleration_x    0\n",
       "acceleration_y    0\n",
       "acceleration_z    0\n",
       "gyro_x            0\n",
       "gyro_y            0\n",
       "gyro_z            0\n",
       "second            0\n",
       "Speed             0\n",
       "dtype: int64"
      ]
     },
     "execution_count": 8,
     "metadata": {},
     "output_type": "execute_result"
    }
   ],
   "source": [
    "df.isnull().sum(axis = 0)"
   ]
  },
  {
   "cell_type": "code",
   "execution_count": null,
   "metadata": {},
   "outputs": [],
   "source": [
    "df.to_csv('JustTaxi.csv')"
   ]
  }
 ],
 "metadata": {
  "interpreter": {
   "hash": "2db524e06e9f5f4ffedc911c917cb75e12dbc923643829bf417064a77eb14d37"
  },
  "kernelspec": {
   "display_name": "Python 3",
   "language": "python",
   "name": "python3"
  },
  "language_info": {
   "codemirror_mode": {
    "name": "ipython",
    "version": 3
   },
   "file_extension": ".py",
   "mimetype": "text/x-python",
   "name": "python",
   "nbconvert_exporter": "python",
   "pygments_lexer": "ipython3",
   "version": "3.8.2"
  }
 },
 "nbformat": 4,
 "nbformat_minor": 2
}
