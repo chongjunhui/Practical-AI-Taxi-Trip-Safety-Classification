{
 "cells": [
  {
   "cell_type": "code",
   "execution_count": null,
   "metadata": {},
   "outputs": [],
   "source": [
    "import pandas as pd\n",
    "from sqlalchemy import create_engine\n",
    "import matplotlib.pyplot as plt\n",
    "import seaborn as sns\n",
    "import numpy as np"
   ]
  },
  {
   "cell_type": "markdown",
   "metadata": {},
   "source": [
    "# ETL Pipeline from SQL to python"
   ]
  },
  {
   "cell_type": "code",
   "execution_count": null,
   "metadata": {},
   "outputs": [],
   "source": [
    "# create engine to connect to Microsoft SQL to database\n",
    "server = 'LAPTOP-PG979IBO\\SQLEXPRESS'\n",
    "database = 'JustTaxiDB'\n",
    "engine = create_engine('mssql+pyodbc://{}/{}?driver=SQL Server'.format(server, database))"
   ]
  },
  {
   "cell_type": "code",
   "execution_count": null,
   "metadata": {},
   "outputs": [],
   "source": [
    "connection =  engine.connect()\n",
    "cursor = connection.execute('SELECT * FROM features')\n",
    "featuresdf = pd.DataFrame(data=cursor.fetchall(), columns=cursor.keys())\n",
    "cursor = connection.execute('SELECT * FROM labels')\n",
    "labelsDf = pd.DataFrame(data=cursor.fetchall(), columns=cursor.keys())\n",
    "connection.close()"
   ]
  },
  {
   "cell_type": "code",
   "execution_count": null,
   "metadata": {},
   "outputs": [
    {
     "data": {
      "text/html": [
       "<div>\n",
       "<style scoped>\n",
       "    .dataframe tbody tr th:only-of-type {\n",
       "        vertical-align: middle;\n",
       "    }\n",
       "\n",
       "    .dataframe tbody tr th {\n",
       "        vertical-align: top;\n",
       "    }\n",
       "\n",
       "    .dataframe thead th {\n",
       "        text-align: right;\n",
       "    }\n",
       "</style>\n",
       "<table border=\"1\" class=\"dataframe\">\n",
       "  <thead>\n",
       "    <tr style=\"text-align: right;\">\n",
       "      <th></th>\n",
       "      <th>ID</th>\n",
       "      <th>bookingID</th>\n",
       "      <th>Accuracy</th>\n",
       "      <th>Bearing</th>\n",
       "      <th>acceleration_x</th>\n",
       "      <th>acceleration_y</th>\n",
       "      <th>acceleration_z</th>\n",
       "      <th>gyro_x</th>\n",
       "      <th>gyro_y</th>\n",
       "      <th>gyro_z</th>\n",
       "      <th>second</th>\n",
       "      <th>Speed</th>\n",
       "    </tr>\n",
       "  </thead>\n",
       "  <tbody>\n",
       "    <tr>\n",
       "      <th>0</th>\n",
       "      <td>1</td>\n",
       "      <td>1.202591e+12</td>\n",
       "      <td>3.000</td>\n",
       "      <td>353.0</td>\n",
       "      <td>1.228867</td>\n",
       "      <td>8.900100</td>\n",
       "      <td>3.986968</td>\n",
       "      <td>0.008221</td>\n",
       "      <td>0.002269</td>\n",
       "      <td>-0.009966</td>\n",
       "      <td>1362.0</td>\n",
       "      <td>0.000000</td>\n",
       "    </tr>\n",
       "    <tr>\n",
       "      <th>1</th>\n",
       "      <td>2</td>\n",
       "      <td>2.748779e+11</td>\n",
       "      <td>9.293</td>\n",
       "      <td>17.0</td>\n",
       "      <td>0.032775</td>\n",
       "      <td>8.659933</td>\n",
       "      <td>4.737300</td>\n",
       "      <td>0.024629</td>\n",
       "      <td>0.004028</td>\n",
       "      <td>-0.010858</td>\n",
       "      <td>257.0</td>\n",
       "      <td>0.190000</td>\n",
       "    </tr>\n",
       "    <tr>\n",
       "      <th>2</th>\n",
       "      <td>3</td>\n",
       "      <td>8.847633e+11</td>\n",
       "      <td>3.000</td>\n",
       "      <td>NaN</td>\n",
       "      <td>1.139675</td>\n",
       "      <td>9.545974</td>\n",
       "      <td>1.951334</td>\n",
       "      <td>-0.006899</td>\n",
       "      <td>-0.015080</td>\n",
       "      <td>0.001122</td>\n",
       "      <td>973.0</td>\n",
       "      <td>0.667059</td>\n",
       "    </tr>\n",
       "    <tr>\n",
       "      <th>3</th>\n",
       "      <td>4</td>\n",
       "      <td>1.073742e+12</td>\n",
       "      <td>3.900</td>\n",
       "      <td>126.0</td>\n",
       "      <td>3.871543</td>\n",
       "      <td>10.386364</td>\n",
       "      <td>-0.136474</td>\n",
       "      <td>0.001344</td>\n",
       "      <td>-0.339601</td>\n",
       "      <td>-0.017956</td>\n",
       "      <td>902.0</td>\n",
       "      <td>7.913285</td>\n",
       "    </tr>\n",
       "    <tr>\n",
       "      <th>4</th>\n",
       "      <td>5</td>\n",
       "      <td>1.056562e+12</td>\n",
       "      <td>3.900</td>\n",
       "      <td>50.0</td>\n",
       "      <td>-0.112882</td>\n",
       "      <td>10.550960</td>\n",
       "      <td>-1.560110</td>\n",
       "      <td>0.130568</td>\n",
       "      <td>-0.061697</td>\n",
       "      <td>0.161530</td>\n",
       "      <td>820.0</td>\n",
       "      <td>20.419409</td>\n",
       "    </tr>\n",
       "  </tbody>\n",
       "</table>\n",
       "</div>"
      ],
      "text/plain": [
       "   ID     bookingID  Accuracy  Bearing  acceleration_x  acceleration_y  \\\n",
       "0   1  1.202591e+12     3.000    353.0        1.228867        8.900100   \n",
       "1   2  2.748779e+11     9.293     17.0        0.032775        8.659933   \n",
       "2   3  8.847633e+11     3.000      NaN        1.139675        9.545974   \n",
       "3   4  1.073742e+12     3.900    126.0        3.871543       10.386364   \n",
       "4   5  1.056562e+12     3.900     50.0       -0.112882       10.550960   \n",
       "\n",
       "   acceleration_z    gyro_x    gyro_y    gyro_z  second      Speed  \n",
       "0        3.986968  0.008221  0.002269 -0.009966  1362.0   0.000000  \n",
       "1        4.737300  0.024629  0.004028 -0.010858   257.0   0.190000  \n",
       "2        1.951334 -0.006899 -0.015080  0.001122   973.0   0.667059  \n",
       "3       -0.136474  0.001344 -0.339601 -0.017956   902.0   7.913285  \n",
       "4       -1.560110  0.130568 -0.061697  0.161530   820.0  20.419409  "
      ]
     },
     "metadata": {},
     "output_type": "display_data"
    }
   ],
   "source": [
    "featuresdf.head()"
   ]
  },
  {
   "cell_type": "code",
   "execution_count": null,
   "metadata": {},
   "outputs": [
    {
     "data": {
      "text/html": [
       "<div>\n",
       "<style scoped>\n",
       "    .dataframe tbody tr th:only-of-type {\n",
       "        vertical-align: middle;\n",
       "    }\n",
       "\n",
       "    .dataframe tbody tr th {\n",
       "        vertical-align: top;\n",
       "    }\n",
       "\n",
       "    .dataframe thead th {\n",
       "        text-align: right;\n",
       "    }\n",
       "</style>\n",
       "<table border=\"1\" class=\"dataframe\">\n",
       "  <thead>\n",
       "    <tr style=\"text-align: right;\">\n",
       "      <th></th>\n",
       "      <th>ID</th>\n",
       "      <th>bookingID</th>\n",
       "      <th>Accuracy</th>\n",
       "      <th>Bearing</th>\n",
       "      <th>acceleration_x</th>\n",
       "      <th>acceleration_y</th>\n",
       "      <th>acceleration_z</th>\n",
       "      <th>gyro_x</th>\n",
       "      <th>gyro_y</th>\n",
       "      <th>gyro_z</th>\n",
       "      <th>second</th>\n",
       "      <th>Speed</th>\n",
       "    </tr>\n",
       "  </thead>\n",
       "  <tbody>\n",
       "    <tr>\n",
       "      <th>count</th>\n",
       "      <td>7.460914e+06</td>\n",
       "      <td>7.460914e+06</td>\n",
       "      <td>7.317659e+06</td>\n",
       "      <td>7.269318e+06</td>\n",
       "      <td>7.263326e+06</td>\n",
       "      <td>7.247237e+06</td>\n",
       "      <td>7.380330e+06</td>\n",
       "      <td>7.301554e+06</td>\n",
       "      <td>7.321852e+06</td>\n",
       "      <td>7.291413e+06</td>\n",
       "      <td>7.337951e+06</td>\n",
       "      <td>7.348098e+06</td>\n",
       "    </tr>\n",
       "    <tr>\n",
       "      <th>mean</th>\n",
       "      <td>3.734862e+06</td>\n",
       "      <td>8.182897e+11</td>\n",
       "      <td>1.162474e+01</td>\n",
       "      <td>1.689599e+02</td>\n",
       "      <td>6.910065e-02</td>\n",
       "      <td>4.473269e+00</td>\n",
       "      <td>8.980677e-01</td>\n",
       "      <td>-1.744735e-03</td>\n",
       "      <td>2.227136e-04</td>\n",
       "      <td>-2.460716e-04</td>\n",
       "      <td>3.724240e+03</td>\n",
       "      <td>9.004590e+00</td>\n",
       "    </tr>\n",
       "    <tr>\n",
       "      <th>std</th>\n",
       "      <td>2.156316e+06</td>\n",
       "      <td>4.952452e+11</td>\n",
       "      <td>8.734583e+01</td>\n",
       "      <td>1.072919e+02</td>\n",
       "      <td>1.424415e+00</td>\n",
       "      <td>8.128116e+00</td>\n",
       "      <td>3.250699e+00</td>\n",
       "      <td>1.440551e-01</td>\n",
       "      <td>3.368266e-01</td>\n",
       "      <td>1.479346e-01</td>\n",
       "      <td>1.390670e+06</td>\n",
       "      <td>8.105850e+00</td>\n",
       "    </tr>\n",
       "    <tr>\n",
       "      <th>min</th>\n",
       "      <td>1.000000e+00</td>\n",
       "      <td>0.000000e+00</td>\n",
       "      <td>7.500000e-01</td>\n",
       "      <td>0.000000e+00</td>\n",
       "      <td>-3.898399e+01</td>\n",
       "      <td>-5.780019e+01</td>\n",
       "      <td>-7.844842e+01</td>\n",
       "      <td>-4.845575e+01</td>\n",
       "      <td>-5.734489e+01</td>\n",
       "      <td>-5.355445e+01</td>\n",
       "      <td>0.000000e+00</td>\n",
       "      <td>-2.000000e+00</td>\n",
       "    </tr>\n",
       "    <tr>\n",
       "      <th>25%</th>\n",
       "      <td>1.867449e+06</td>\n",
       "      <td>3.779571e+11</td>\n",
       "      <td>3.900000e+00</td>\n",
       "      <td>7.800000e+01</td>\n",
       "      <td>-5.087678e-01</td>\n",
       "      <td>-1.923828e+00</td>\n",
       "      <td>-9.275788e-01</td>\n",
       "      <td>-2.680969e-02</td>\n",
       "      <td>-2.995300e-02</td>\n",
       "      <td>-1.872738e-02</td>\n",
       "      <td>2.410000e+02</td>\n",
       "      <td>1.017197e+00</td>\n",
       "    </tr>\n",
       "    <tr>\n",
       "      <th>50%</th>\n",
       "      <td>3.734904e+06</td>\n",
       "      <td>8.074539e+11</td>\n",
       "      <td>4.241000e+00</td>\n",
       "      <td>1.687509e+02</td>\n",
       "      <td>6.130981e-02</td>\n",
       "      <td>9.081572e+00</td>\n",
       "      <td>7.788748e-01</td>\n",
       "      <td>-6.561279e-04</td>\n",
       "      <td>2.593994e-04</td>\n",
       "      <td>-3.051758e-05</td>\n",
       "      <td>5.190000e+02</td>\n",
       "      <td>7.527132e+00</td>\n",
       "    </tr>\n",
       "    <tr>\n",
       "      <th>75%</th>\n",
       "      <td>5.602311e+06</td>\n",
       "      <td>1.254130e+12</td>\n",
       "      <td>8.000000e+00</td>\n",
       "      <td>2.629368e+02</td>\n",
       "      <td>6.350620e-01</td>\n",
       "      <td>9.710449e+00</td>\n",
       "      <td>2.753416e+00</td>\n",
       "      <td>2.330017e-02</td>\n",
       "      <td>3.143085e-02</td>\n",
       "      <td>1.825996e-02</td>\n",
       "      <td>8.620000e+02</td>\n",
       "      <td>1.547698e+01</td>\n",
       "    </tr>\n",
       "    <tr>\n",
       "      <th>max</th>\n",
       "      <td>7.469656e+06</td>\n",
       "      <td>1.709397e+12</td>\n",
       "      <td>6.070101e+03</td>\n",
       "      <td>3.599995e+02</td>\n",
       "      <td>6.687346e+01</td>\n",
       "      <td>6.115936e+01</td>\n",
       "      <td>7.805576e+01</td>\n",
       "      <td>3.070942e+01</td>\n",
       "      <td>8.031496e+01</td>\n",
       "      <td>4.505986e+01</td>\n",
       "      <td>6.193165e+08</td>\n",
       "      <td>8.803725e+01</td>\n",
       "    </tr>\n",
       "  </tbody>\n",
       "</table>\n",
       "</div>"
      ],
      "text/plain": [
       "                 ID     bookingID      Accuracy       Bearing  acceleration_x  \\\n",
       "count  7.460914e+06  7.460914e+06  7.317659e+06  7.269318e+06    7.263326e+06   \n",
       "mean   3.734862e+06  8.182897e+11  1.162474e+01  1.689599e+02    6.910065e-02   \n",
       "std    2.156316e+06  4.952452e+11  8.734583e+01  1.072919e+02    1.424415e+00   \n",
       "min    1.000000e+00  0.000000e+00  7.500000e-01  0.000000e+00   -3.898399e+01   \n",
       "25%    1.867449e+06  3.779571e+11  3.900000e+00  7.800000e+01   -5.087678e-01   \n",
       "50%    3.734904e+06  8.074539e+11  4.241000e+00  1.687509e+02    6.130981e-02   \n",
       "75%    5.602311e+06  1.254130e+12  8.000000e+00  2.629368e+02    6.350620e-01   \n",
       "max    7.469656e+06  1.709397e+12  6.070101e+03  3.599995e+02    6.687346e+01   \n",
       "\n",
       "       acceleration_y  acceleration_z        gyro_x        gyro_y  \\\n",
       "count    7.247237e+06    7.380330e+06  7.301554e+06  7.321852e+06   \n",
       "mean     4.473269e+00    8.980677e-01 -1.744735e-03  2.227136e-04   \n",
       "std      8.128116e+00    3.250699e+00  1.440551e-01  3.368266e-01   \n",
       "min     -5.780019e+01   -7.844842e+01 -4.845575e+01 -5.734489e+01   \n",
       "25%     -1.923828e+00   -9.275788e-01 -2.680969e-02 -2.995300e-02   \n",
       "50%      9.081572e+00    7.788748e-01 -6.561279e-04  2.593994e-04   \n",
       "75%      9.710449e+00    2.753416e+00  2.330017e-02  3.143085e-02   \n",
       "max      6.115936e+01    7.805576e+01  3.070942e+01  8.031496e+01   \n",
       "\n",
       "             gyro_z        second         Speed  \n",
       "count  7.291413e+06  7.337951e+06  7.348098e+06  \n",
       "mean  -2.460716e-04  3.724240e+03  9.004590e+00  \n",
       "std    1.479346e-01  1.390670e+06  8.105850e+00  \n",
       "min   -5.355445e+01  0.000000e+00 -2.000000e+00  \n",
       "25%   -1.872738e-02  2.410000e+02  1.017197e+00  \n",
       "50%   -3.051758e-05  5.190000e+02  7.527132e+00  \n",
       "75%    1.825996e-02  8.620000e+02  1.547698e+01  \n",
       "max    4.505986e+01  6.193165e+08  8.803725e+01  "
      ]
     },
     "metadata": {},
     "output_type": "display_data"
    }
   ],
   "source": [
    "featuresdf.describe()"
   ]
  },
  {
   "cell_type": "markdown",
   "metadata": {},
   "source": [
    "# Looking for outliers"
   ]
  },
  {
   "cell_type": "code",
   "execution_count": null,
   "metadata": {
    "scrolled": false
   },
   "outputs": [
    {
     "data": {
      "image/png": "[encoded data removed]",
      "text/plain": [
       "<Figure size 432x288 with 1 Axes>"
      ]
     },
     "metadata": {},
     "output_type": "display_data"
    },
    {
     "data": {
      "image/png": "[encoded data removed]",
      "text/plain": [
       "<Figure size 432x288 with 1 Axes>"
      ]
     },
     "metadata": {},
     "output_type": "display_data"
    },
    {
     "data": {
      "image/png": "[encoded data removed]",
      "text/plain": [
       "<Figure size 432x288 with 1 Axes>"
      ]
     },
     "metadata": {},
     "output_type": "display_data"
    },
    {
     "data": {
      "image/png": "[encoded data removed]",
      "text/plain": [
       "<Figure size 432x288 with 1 Axes>"
      ]
     },
     "metadata": {},
     "output_type": "display_data"
    },
    {
     "data": {
      "image/png": "[encoded data removed]",
      "text/plain": [
       "<Figure size 432x288 with 1 Axes>"
      ]
     },
     "metadata": {},
     "output_type": "display_data"
    },
    {
     "data": {
      "image/png": "[encoded data removed]",
      "text/plain": [
       "<Figure size 432x288 with 1 Axes>"
      ]
     },
     "metadata": {},
     "output_type": "display_data"
    },
    {
     "data": {
      "image/png": "[encoded data removed]",
      "text/plain": [
       "<Figure size 432x288 with 1 Axes>"
      ]
     },
     "metadata": {},
     "output_type": "display_data"
    },
    {
     "data": {
      "image/png": "[encoded data removed]",
      "text/plain": [
       "<Figure size 432x288 with 1 Axes>"
      ]
     },
     "metadata": {},
     "output_type": "display_data"
    },
    {
     "data": {
      "image/png": "[encoded data removed]",
      "text/plain": [
       "<Figure size 432x288 with 1 Axes>"
      ]
     },
     "metadata": {},
     "output_type": "display_data"
    },
    {
     "data": {
      "image/png": "[encoded data removed]",
      "text/plain": [
       "<Figure size 432x288 with 1 Axes>"
      ]
     },
     "metadata": {},
     "output_type": "display_data"
    },
    {
     "data": {
      "image/png": "[encoded data removed]",
      "text/plain": [
       "<Figure size 432x288 with 1 Axes>"
      ]
     },
     "metadata": {},
     "output_type": "display_data"
    },
    {
     "data": {
      "image/png": "[encoded data removed]",
      "text/plain": [
       "<Figure size 432x288 with 1 Axes>"
      ]
     },
     "metadata": {},
     "output_type": "display_data"
    }
   ],
   "source": [
    "import matplotlib.pyplot as plt\n",
    "\n",
    "for column in featuresDf:\n",
    "    plt.figure()\n",
    "    featuresdf.boxplot([column])"
   ]
  },
  {
   "cell_type": "markdown",
   "metadata": {},
   "source": [
    "There are a lot of outliers for each column. To prevent loss of data, not all outliers are going to be removed. We are just going to remove outliers that do not make sense. We are going to explore all the outliers for every column except for bookingID"
   ]
  },
  {
   "cell_type": "markdown",
   "metadata": {},
   "source": [
    "# Remove all outliers"
   ]
  },
  {
   "cell_type": "code",
   "execution_count": null,
   "metadata": {},
   "outputs": [],
   "source": [
    "#remove outliers in Accuracy\n",
    "featuresdf=featuresdf.drop(featuresdf[featuresdf['Accuracy']>1500].index)\n",
    "\n",
    "#remove outliers in acceleration_x\n",
    "featuresdf=featuresdf.drop(featuresdf[(featuresdf['acceleration_x']<-10) | (featuresdf['acceleration_x']>10)].index)\n",
    "\n",
    "#remove outliers in acceleration_y\n",
    "featuresdf=featuresdf.drop(featuresdf[(featuresdf['acceleration_y']<-20) | (featuresdf['acceleration_y']>25)].index)\n",
    "\n",
    "#remove outliers in acceleration_z\n",
    "featuresdf=featuresdf.drop(featuresdf[(featuresdf['acceleration_z']<-15) | (featuresdf['acceleration_z']>15)].index)\n",
    "\n",
    "#remove outliers in gyro_x\n",
    "featuresdf=featuresdf.drop(featuresdf[(featuresdf['gyro_x']<-1) | (featuresdf['gyro_x']>1)].index)\n",
    "\n",
    "#remove outliers in gyro_y\n",
    "featuresdf=featuresdf.drop(featuresdf[(featuresdf['gyro_y']<-6) | (featuresdf['gyro_y']>6)].index)\n",
    "\n",
    "#remove outliers in gyro_z\n",
    "featuresdf=featuresdf.drop(featuresdf[(featuresdf['gyro_z']<-7) | (featuresdf['gyro_z']>7)].index)\n",
    "\n",
    "#remove outliers in second\n",
    "featuresdf=featuresdf.drop(featuresdf[featuresdf['second']>86400].index)\n",
    "\n",
    "#remove outliers in Speed\n",
    "featuresdf=featuresdf.drop(featuresdf[featuresdf['Speed']>25].index)"
   ]
  },
  {
   "cell_type": "markdown",
   "metadata": {},
   "source": [
    "# Identifying Null Values"
   ]
  },
  {
   "cell_type": "code",
   "execution_count": null,
   "metadata": {},
   "outputs": [],
   "source": [
    "## REMOVE RECORDS WITH MORE THAN ONE NULL VALUES\n",
    "featuresdf=featuresdf.drop(featuresdf[featuresdf.isnull().sum(axis=1) >= 2].index)"
   ]
  },
  {
   "cell_type": "code",
   "execution_count": null,
   "metadata": {},
   "outputs": [
    {
     "data": {
      "text/plain": [
       "ID                     0\n",
       "bookingID              0\n",
       "Accuracy          138691\n",
       "Bearing           185525\n",
       "acceleration_x    191581\n",
       "acceleration_y    207256\n",
       "acceleration_z     78113\n",
       "gyro_x            154623\n",
       "gyro_y            134758\n",
       "gyro_z            164174\n",
       "second            119121\n",
       "Speed             112193\n",
       "dtype: int64"
      ]
     },
     "metadata": {},
     "output_type": "display_data"
    }
   ],
   "source": [
    "featuresdf.isnull().sum()"
   ]
  },
  {
   "cell_type": "markdown",
   "metadata": {},
   "source": [
    "# Separating the datasets into 3 parts"
   ]
  },
  {
   "cell_type": "markdown",
   "metadata": {},
   "source": [
    "Since the dataset was too large, we decided to split the dataset into 3 subsets"
   ]
  },
  {
   "cell_type": "code",
   "execution_count": null,
   "metadata": {},
   "outputs": [],
   "source": [
    "bookingids=featuresdf['bookingID'].unique()\n",
    "set1=featuresdf[featuresdf['bookingID'].isin(bookingids[:6659])]\n",
    "set2=featuresdf[featuresdf['bookingID'].isin(bookingids[6659:13318])]\n",
    "set3=featuresdf[featuresdf['bookingID'].isin(bookingids[13318:])]\n",
    "\n",
    "set1.to_csv('set1.csv')\n",
    "set2.to_csv('set2.csv')\n",
    "set3.to_csv('set3.csv')"
   ]
  }
 ],
 "metadata": {
  "language_info": {
   "name": "python"
  },
  "orig_nbformat": 4
 },
 "nbformat": 4,
 "nbformat_minor": 2
}
