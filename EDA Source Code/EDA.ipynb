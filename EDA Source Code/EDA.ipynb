{
 "cells": [
  {
   "cell_type": "code",
   "execution_count": 1,
   "metadata": {},
   "outputs": [],
   "source": [
    "import pandas as pd\n",
    "import matplotlib.pyplot as plt\n",
    "import numpy as np\n",
    "import seaborn as sns"
   ]
  },
  {
   "cell_type": "code",
   "execution_count": 2,
   "metadata": {},
   "outputs": [
    {
     "name": "stdout",
     "output_type": "stream",
     "text": [
      "The number of null values in features dataframe are:\n",
      "bookingID         0\n",
      "Accuracy          0\n",
      "Bearing           0\n",
      "acceleration_x    0\n",
      "acceleration_y    0\n",
      "acceleration_z    0\n",
      "gyro_x            0\n",
      "gyro_y            0\n",
      "gyro_z            0\n",
      "second            0\n",
      "Speed             0\n",
      "label             0\n",
      "dtype: int64\n",
      "The info of the columns in features dataframe are:\n",
      "<class 'pandas.core.frame.DataFrame'>\n",
      "Int64Index: 7194164 entries, 0 to 7194163\n",
      "Data columns (total 12 columns):\n",
      " #   Column          Dtype  \n",
      "---  ------          -----  \n",
      " 0   bookingID       float64\n",
      " 1   Accuracy        float64\n",
      " 2   Bearing         float64\n",
      " 3   acceleration_x  float64\n",
      " 4   acceleration_y  float64\n",
      " 5   acceleration_z  float64\n",
      " 6   gyro_x          float64\n",
      " 7   gyro_y          float64\n",
      " 8   gyro_z          float64\n",
      " 9   second          float64\n",
      " 10  Speed           float64\n",
      " 11  label           int64  \n",
      "dtypes: float64(11), int64(1)\n",
      "memory usage: 713.5 MB\n",
      "None\n"
     ]
    },
    {
     "data": {
      "text/html": [
       "<div>\n",
       "<style scoped>\n",
       "    .dataframe tbody tr th:only-of-type {\n",
       "        vertical-align: middle;\n",
       "    }\n",
       "\n",
       "    .dataframe tbody tr th {\n",
       "        vertical-align: top;\n",
       "    }\n",
       "\n",
       "    .dataframe thead th {\n",
       "        text-align: right;\n",
       "    }\n",
       "</style>\n",
       "<table border=\"1\" class=\"dataframe\">\n",
       "  <thead>\n",
       "    <tr style=\"text-align: right;\">\n",
       "      <th></th>\n",
       "      <th>bookingID</th>\n",
       "      <th>Accuracy</th>\n",
       "      <th>Bearing</th>\n",
       "      <th>acceleration_x</th>\n",
       "      <th>acceleration_y</th>\n",
       "      <th>acceleration_z</th>\n",
       "      <th>gyro_x</th>\n",
       "      <th>gyro_y</th>\n",
       "      <th>gyro_z</th>\n",
       "      <th>second</th>\n",
       "      <th>Speed</th>\n",
       "      <th>label</th>\n",
       "    </tr>\n",
       "  </thead>\n",
       "  <tbody>\n",
       "    <tr>\n",
       "      <th>0</th>\n",
       "      <td>2.748779e+11</td>\n",
       "      <td>9.293</td>\n",
       "      <td>17.000000</td>\n",
       "      <td>0.032775</td>\n",
       "      <td>8.659933</td>\n",
       "      <td>4.737300</td>\n",
       "      <td>0.024629</td>\n",
       "      <td>0.004028</td>\n",
       "      <td>-0.010858</td>\n",
       "      <td>257.0</td>\n",
       "      <td>0.190000</td>\n",
       "      <td>1</td>\n",
       "    </tr>\n",
       "    <tr>\n",
       "      <th>1</th>\n",
       "      <td>1.632088e+11</td>\n",
       "      <td>10.000</td>\n",
       "      <td>262.184418</td>\n",
       "      <td>0.599490</td>\n",
       "      <td>-9.180023</td>\n",
       "      <td>-2.520432</td>\n",
       "      <td>0.026767</td>\n",
       "      <td>-0.030687</td>\n",
       "      <td>-0.006071</td>\n",
       "      <td>556.0</td>\n",
       "      <td>2.110000</td>\n",
       "      <td>0</td>\n",
       "    </tr>\n",
       "    <tr>\n",
       "      <th>2</th>\n",
       "      <td>1.632088e+11</td>\n",
       "      <td>3.900</td>\n",
       "      <td>247.000000</td>\n",
       "      <td>-0.178970</td>\n",
       "      <td>9.149704</td>\n",
       "      <td>3.551163</td>\n",
       "      <td>-0.006271</td>\n",
       "      <td>-0.026047</td>\n",
       "      <td>-0.012314</td>\n",
       "      <td>32.0</td>\n",
       "      <td>9.050000</td>\n",
       "      <td>1</td>\n",
       "    </tr>\n",
       "    <tr>\n",
       "      <th>3</th>\n",
       "      <td>2.920578e+11</td>\n",
       "      <td>4.000</td>\n",
       "      <td>248.000000</td>\n",
       "      <td>0.270553</td>\n",
       "      <td>3.270579</td>\n",
       "      <td>8.959376</td>\n",
       "      <td>-0.009404</td>\n",
       "      <td>0.023554</td>\n",
       "      <td>-0.006946</td>\n",
       "      <td>1008.0</td>\n",
       "      <td>9.497410</td>\n",
       "      <td>1</td>\n",
       "    </tr>\n",
       "    <tr>\n",
       "      <th>4</th>\n",
       "      <td>2.491081e+11</td>\n",
       "      <td>6.000</td>\n",
       "      <td>95.000000</td>\n",
       "      <td>-0.152798</td>\n",
       "      <td>9.903376</td>\n",
       "      <td>-0.042253</td>\n",
       "      <td>-0.006894</td>\n",
       "      <td>0.063513</td>\n",
       "      <td>0.028047</td>\n",
       "      <td>518.0</td>\n",
       "      <td>0.048665</td>\n",
       "      <td>1</td>\n",
       "    </tr>\n",
       "  </tbody>\n",
       "</table>\n",
       "</div>"
      ],
      "text/plain": [
       "      bookingID  Accuracy     Bearing  acceleration_x  acceleration_y  \\\n",
       "0  2.748779e+11     9.293   17.000000        0.032775        8.659933   \n",
       "1  1.632088e+11    10.000  262.184418        0.599490       -9.180023   \n",
       "2  1.632088e+11     3.900  247.000000       -0.178970        9.149704   \n",
       "3  2.920578e+11     4.000  248.000000        0.270553        3.270579   \n",
       "4  2.491081e+11     6.000   95.000000       -0.152798        9.903376   \n",
       "\n",
       "   acceleration_z    gyro_x    gyro_y    gyro_z  second     Speed  label  \n",
       "0        4.737300  0.024629  0.004028 -0.010858   257.0  0.190000      1  \n",
       "1       -2.520432  0.026767 -0.030687 -0.006071   556.0  2.110000      0  \n",
       "2        3.551163 -0.006271 -0.026047 -0.012314    32.0  9.050000      1  \n",
       "3        8.959376 -0.009404  0.023554 -0.006946  1008.0  9.497410      1  \n",
       "4       -0.042253 -0.006894  0.063513  0.028047   518.0  0.048665      1  "
      ]
     },
     "execution_count": 2,
     "metadata": {},
     "output_type": "execute_result"
    }
   ],
   "source": [
    "df = pd.read_csv('JustTaxi.csv',  index_col= 0 ) \n",
    "print('The number of null values in features dataframe are:')\n",
    "print(df.isnull().sum(axis = 0))\n",
    "print('The info of the columns in features dataframe are:')\n",
    "print(df.info())\n",
    "df.head()"
   ]
  },
  {
   "cell_type": "code",
   "execution_count": 3,
   "metadata": {},
   "outputs": [
    {
     "data": {
      "text/html": [
       "<div>\n",
       "<style scoped>\n",
       "    .dataframe tbody tr th:only-of-type {\n",
       "        vertical-align: middle;\n",
       "    }\n",
       "\n",
       "    .dataframe tbody tr th {\n",
       "        vertical-align: top;\n",
       "    }\n",
       "\n",
       "    .dataframe thead th {\n",
       "        text-align: right;\n",
       "    }\n",
       "</style>\n",
       "<table border=\"1\" class=\"dataframe\">\n",
       "  <thead>\n",
       "    <tr style=\"text-align: right;\">\n",
       "      <th></th>\n",
       "      <th>bookingID</th>\n",
       "      <th>Accuracy</th>\n",
       "      <th>Bearing</th>\n",
       "      <th>acceleration_x</th>\n",
       "      <th>acceleration_y</th>\n",
       "      <th>acceleration_z</th>\n",
       "      <th>gyro_x</th>\n",
       "      <th>gyro_y</th>\n",
       "      <th>gyro_z</th>\n",
       "      <th>second</th>\n",
       "      <th>Speed</th>\n",
       "      <th>label</th>\n",
       "    </tr>\n",
       "  </thead>\n",
       "  <tbody>\n",
       "    <tr>\n",
       "      <th>count</th>\n",
       "      <td>7.194164e+06</td>\n",
       "      <td>7.194164e+06</td>\n",
       "      <td>7.194164e+06</td>\n",
       "      <td>7.194164e+06</td>\n",
       "      <td>7.194164e+06</td>\n",
       "      <td>7.194164e+06</td>\n",
       "      <td>7.194164e+06</td>\n",
       "      <td>7.194164e+06</td>\n",
       "      <td>7.194164e+06</td>\n",
       "      <td>7.194164e+06</td>\n",
       "      <td>7.194164e+06</td>\n",
       "      <td>7.194164e+06</td>\n",
       "    </tr>\n",
       "    <tr>\n",
       "      <th>mean</th>\n",
       "      <td>8.182724e+11</td>\n",
       "      <td>1.010795e+01</td>\n",
       "      <td>1.652125e+02</td>\n",
       "      <td>6.777408e-02</td>\n",
       "      <td>4.457620e+00</td>\n",
       "      <td>8.896588e-01</td>\n",
       "      <td>-1.738069e-03</td>\n",
       "      <td>-1.271499e-04</td>\n",
       "      <td>-3.658102e-04</td>\n",
       "      <td>6.008619e+02</td>\n",
       "      <td>9.022868e+00</td>\n",
       "      <td>3.041180e-01</td>\n",
       "    </tr>\n",
       "    <tr>\n",
       "      <th>std</th>\n",
       "      <td>4.951463e+11</td>\n",
       "      <td>6.255569e+01</td>\n",
       "      <td>1.089644e+02</td>\n",
       "      <td>1.350015e+00</td>\n",
       "      <td>8.068016e+00</td>\n",
       "      <td>3.173510e+00</td>\n",
       "      <td>1.000226e-01</td>\n",
       "      <td>1.781302e-01</td>\n",
       "      <td>1.026586e-01</td>\n",
       "      <td>4.615592e+02</td>\n",
       "      <td>8.104775e+00</td>\n",
       "      <td>4.600329e-01</td>\n",
       "    </tr>\n",
       "    <tr>\n",
       "      <th>min</th>\n",
       "      <td>0.000000e+00</td>\n",
       "      <td>7.500000e-01</td>\n",
       "      <td>0.000000e+00</td>\n",
       "      <td>-9.999999e+00</td>\n",
       "      <td>-1.999507e+01</td>\n",
       "      <td>-1.499623e+01</td>\n",
       "      <td>-9.998474e-01</td>\n",
       "      <td>-5.989435e+00</td>\n",
       "      <td>-6.938964e+00</td>\n",
       "      <td>0.000000e+00</td>\n",
       "      <td>-1.547627e+01</td>\n",
       "      <td>0.000000e+00</td>\n",
       "    </tr>\n",
       "    <tr>\n",
       "      <th>25%</th>\n",
       "      <td>3.779571e+11</td>\n",
       "      <td>3.900000e+00</td>\n",
       "      <td>7.300000e+01</td>\n",
       "      <td>-5.051765e-01</td>\n",
       "      <td>-1.925577e+00</td>\n",
       "      <td>-9.233101e-01</td>\n",
       "      <td>-2.654852e-02</td>\n",
       "      <td>-2.970117e-02</td>\n",
       "      <td>-1.846768e-02</td>\n",
       "      <td>2.410000e+02</td>\n",
       "      <td>1.042856e+00</td>\n",
       "      <td>0.000000e+00</td>\n",
       "    </tr>\n",
       "    <tr>\n",
       "      <th>50%</th>\n",
       "      <td>8.074539e+11</td>\n",
       "      <td>4.162000e+00</td>\n",
       "      <td>1.640000e+02</td>\n",
       "      <td>6.190796e-02</td>\n",
       "      <td>9.088211e+00</td>\n",
       "      <td>7.781393e-01</td>\n",
       "      <td>-6.548475e-04</td>\n",
       "      <td>2.593994e-04</td>\n",
       "      <td>-2.443045e-05</td>\n",
       "      <td>5.190000e+02</td>\n",
       "      <td>7.560000e+00</td>\n",
       "      <td>0.000000e+00</td>\n",
       "    </tr>\n",
       "    <tr>\n",
       "      <th>75%</th>\n",
       "      <td>1.254130e+12</td>\n",
       "      <td>8.000000e+00</td>\n",
       "      <td>2.603179e+02</td>\n",
       "      <td>6.320692e-01</td>\n",
       "      <td>9.709717e+00</td>\n",
       "      <td>2.745844e+00</td>\n",
       "      <td>2.307129e-02</td>\n",
       "      <td>3.108388e-02</td>\n",
       "      <td>1.810910e-02</td>\n",
       "      <td>8.610000e+02</td>\n",
       "      <td>1.549360e+01</td>\n",
       "      <td>1.000000e+00</td>\n",
       "    </tr>\n",
       "    <tr>\n",
       "      <th>max</th>\n",
       "      <td>1.709397e+12</td>\n",
       "      <td>1.500000e+03</td>\n",
       "      <td>3.599995e+02</td>\n",
       "      <td>1.339649e+01</td>\n",
       "      <td>2.493920e+01</td>\n",
       "      <td>1.499944e+01</td>\n",
       "      <td>1.311228e+00</td>\n",
       "      <td>5.996460e+00</td>\n",
       "      <td>6.690163e+00</td>\n",
       "      <td>8.234000e+03</td>\n",
       "      <td>9.244882e+01</td>\n",
       "      <td>1.000000e+00</td>\n",
       "    </tr>\n",
       "  </tbody>\n",
       "</table>\n",
       "</div>"
      ],
      "text/plain": [
       "          bookingID      Accuracy       Bearing  acceleration_x  \\\n",
       "count  7.194164e+06  7.194164e+06  7.194164e+06    7.194164e+06   \n",
       "mean   8.182724e+11  1.010795e+01  1.652125e+02    6.777408e-02   \n",
       "std    4.951463e+11  6.255569e+01  1.089644e+02    1.350015e+00   \n",
       "min    0.000000e+00  7.500000e-01  0.000000e+00   -9.999999e+00   \n",
       "25%    3.779571e+11  3.900000e+00  7.300000e+01   -5.051765e-01   \n",
       "50%    8.074539e+11  4.162000e+00  1.640000e+02    6.190796e-02   \n",
       "75%    1.254130e+12  8.000000e+00  2.603179e+02    6.320692e-01   \n",
       "max    1.709397e+12  1.500000e+03  3.599995e+02    1.339649e+01   \n",
       "\n",
       "       acceleration_y  acceleration_z        gyro_x        gyro_y  \\\n",
       "count    7.194164e+06    7.194164e+06  7.194164e+06  7.194164e+06   \n",
       "mean     4.457620e+00    8.896588e-01 -1.738069e-03 -1.271499e-04   \n",
       "std      8.068016e+00    3.173510e+00  1.000226e-01  1.781302e-01   \n",
       "min     -1.999507e+01   -1.499623e+01 -9.998474e-01 -5.989435e+00   \n",
       "25%     -1.925577e+00   -9.233101e-01 -2.654852e-02 -2.970117e-02   \n",
       "50%      9.088211e+00    7.781393e-01 -6.548475e-04  2.593994e-04   \n",
       "75%      9.709717e+00    2.745844e+00  2.307129e-02  3.108388e-02   \n",
       "max      2.493920e+01    1.499944e+01  1.311228e+00  5.996460e+00   \n",
       "\n",
       "             gyro_z        second         Speed         label  \n",
       "count  7.194164e+06  7.194164e+06  7.194164e+06  7.194164e+06  \n",
       "mean  -3.658102e-04  6.008619e+02  9.022868e+00  3.041180e-01  \n",
       "std    1.026586e-01  4.615592e+02  8.104775e+00  4.600329e-01  \n",
       "min   -6.938964e+00  0.000000e+00 -1.547627e+01  0.000000e+00  \n",
       "25%   -1.846768e-02  2.410000e+02  1.042856e+00  0.000000e+00  \n",
       "50%   -2.443045e-05  5.190000e+02  7.560000e+00  0.000000e+00  \n",
       "75%    1.810910e-02  8.610000e+02  1.549360e+01  1.000000e+00  \n",
       "max    6.690163e+00  8.234000e+03  9.244882e+01  1.000000e+00  "
      ]
     },
     "execution_count": 3,
     "metadata": {},
     "output_type": "execute_result"
    }
   ],
   "source": [
    "df.describe()"
   ]
  },
  {
   "cell_type": "markdown",
   "metadata": {},
   "source": [
    "# Graphs"
   ]
  },
  {
   "cell_type": "markdown",
   "metadata": {},
   "source": [
    "## Violin Plot for Gyro for Safe and Dangerous trip"
   ]
  },
  {
   "cell_type": "code",
   "execution_count": 34,
   "metadata": {},
   "outputs": [
    {
     "data": {
      "image/png": "[encoded data removed]",
      "text/plain": [
       "<Figure size 1080x864 with 1 Axes>"
      ]
     },
     "metadata": {
      "needs_background": "light"
     },
     "output_type": "display_data"
    }
   ],
   "source": [
    "cc=df[['gyro_x','gyro_y','gyro_z','label']]\n",
    "cc=pd.melt(cc, id_vars=['label'], value_vars=['gyro_x','gyro_y','gyro_z'])\n",
    "fig, ax = plt.subplots(figsize=(15,12))\n",
    "sns.violinplot(x=\"value\", y=\"variable\", hue=\"label\",\n",
    "                    data=cc, palette=\"muted\")\n",
    "plt.show()\n"
   ]
  },
  {
   "cell_type": "markdown",
   "metadata": {},
   "source": [
    "This is a violin plot showing the distribution of the gyro for safe and dangerous labels. The overall shape and distribution of each group of gyros are similar for both types of trips. The median, which is around 0 radian, is similar for all gyros. The interquartile range for the 2 labels is very small and similar for both types of trips. The interquartile range is small because the values for gyro are in radian, not degree. Radians are in smaller values meaning a radian of 1 is equivalent to 57.2958 degrees. Comparing the length of the line for each violin plot, we can see that the range for each gyro and type of trip is similar. The only difference that we can see is the line of dangerous trip for gyro_z is slightly longer than the line of the safe trip. This would mean that there are larger range of values for dangerous trip in gyro_z than the safe trips. The distribution of the safe trips and dangerous trip for gyro_x are similar. There are many records that have values of gyro_x around 0 radian. For gyro_y, there are many values that also around 0 but as compared to gyro_x, the values are more distributed. For gyro_z, the shape of the distribution for both types of trips are pointed at the sides. This means that very high percentage of the records are close to 0."
   ]
  },
  {
   "cell_type": "markdown",
   "metadata": {},
   "source": [
    "## Correlation for safe data"
   ]
  },
  {
   "cell_type": "code",
   "execution_count": 28,
   "metadata": {},
   "outputs": [
    {
     "data": {
      "application/vnd.plotly.v1+json": {
       "config": {
        "plotlyServerURL": "https://plot.ly"
       },
       "data": [
        {
         "colorscale": [
          [
           0,
           "rgb(0, 147, 146)"
          ],
          [
           0.16666666666666666,
           "rgb(114, 170, 161)"
          ],
          [
           0.3333333333333333,
           "rgb(177, 199, 179)"
          ],
          [
           0.5,
           "rgb(241, 234, 200)"
          ],
          [
           0.6666666666666666,
           "rgb(229, 185, 173)"
          ],
          [
           0.8333333333333334,
           "rgb(217, 137, 148)"
          ],
          [
           1,
           "rgb(208, 88, 126)"
          ]
         ],
         "hoverinfo": "none",
         "reversescale": false,
         "showscale": true,
         "type": "heatmap",
         "x": [
          "Accuracy",
          "Bearing",
          "acceleration_x",
          "acceleration_y",
          "acceleration_z",
          "gyro_x",
          "gyro_y",
          "gyro_z",
          "second",
          "Speed"
         ],
         "xgap": 1,
         "y": [
          "Accuracy",
          "Bearing",
          "acceleration_x",
          "acceleration_y",
          "acceleration_z",
          "gyro_x",
          "gyro_y",
          "gyro_z",
          "second",
          "Speed"
         ],
         "ygap": 1,
         "z": [
          [
           null,
           null,
           null,
           null,
           null,
           null,
           null,
           null,
           null,
           null
          ],
          [
           -0.03775,
           null,
           null,
           null,
           null,
           null,
           null,
           null,
           null,
           null
          ],
          [
           0.0168,
           0.00235,
           null,
           null,
           null,
           null,
           null,
           null,
           null,
           null
          ],
          [
           0.12086,
           -0.04094,
           0.03492,
           null,
           null,
           null,
           null,
           null,
           null,
           null
          ],
          [
           0.0292,
           0.00168,
           0.01708,
           -0.08732,
           null,
           null,
           null,
           null,
           null,
           null
          ],
          [
           -0.00008,
           -0.00454,
           -0.01019,
           0.01031,
           -0.02447,
           null,
           null,
           null,
           null,
           null
          ],
          [
           -0.00007,
           -0.00871,
           -0.08996,
           -0.00781,
           0.00734,
           0.02831,
           null,
           null,
           null,
           null
          ],
          [
           0.00116,
           -0.0023,
           0.00497,
           0.00156,
           -0.01475,
           -0.01782,
           0.15249,
           null,
           null,
           null
          ],
          [
           -0.02593,
           0.00893,
           0.00272,
           -0.0763,
           -0.0222,
           0.00036,
           0.01323,
           0.00505,
           null,
           null
          ],
          [
           -0.23557,
           0.08712,
           -0.02966,
           -0.5668,
           -0.10246,
           -0.0065,
           0.00382,
           0.00246,
           0.10961,
           null
          ]
         ]
        }
       ],
       "layout": {
        "annotations": [
         {
          "font": {
           "color": "#FFFFFF"
          },
          "showarrow": false,
          "text": "",
          "x": "Accuracy",
          "xref": "x",
          "y": "Accuracy",
          "yref": "y"
         },
         {
          "font": {
           "color": "#FFFFFF"
          },
          "showarrow": false,
          "text": "",
          "x": "Bearing",
          "xref": "x",
          "y": "Accuracy",
          "yref": "y"
         },
         {
          "font": {
           "color": "#FFFFFF"
          },
          "showarrow": false,
          "text": "",
          "x": "acceleration_x",
          "xref": "x",
          "y": "Accuracy",
          "yref": "y"
         },
         {
          "font": {
           "color": "#FFFFFF"
          },
          "showarrow": false,
          "text": "",
          "x": "acceleration_y",
          "xref": "x",
          "y": "Accuracy",
          "yref": "y"
         },
         {
          "font": {
           "color": "#FFFFFF"
          },
          "showarrow": false,
          "text": "",
          "x": "acceleration_z",
          "xref": "x",
          "y": "Accuracy",
          "yref": "y"
         },
         {
          "font": {
           "color": "#FFFFFF"
          },
          "showarrow": false,
          "text": "",
          "x": "gyro_x",
          "xref": "x",
          "y": "Accuracy",
          "yref": "y"
         },
         {
          "font": {
           "color": "#FFFFFF"
          },
          "showarrow": false,
          "text": "",
          "x": "gyro_y",
          "xref": "x",
          "y": "Accuracy",
          "yref": "y"
         },
         {
          "font": {
           "color": "#FFFFFF"
          },
          "showarrow": false,
          "text": "",
          "x": "gyro_z",
          "xref": "x",
          "y": "Accuracy",
          "yref": "y"
         },
         {
          "font": {
           "color": "#FFFFFF"
          },
          "showarrow": false,
          "text": "",
          "x": "second",
          "xref": "x",
          "y": "Accuracy",
          "yref": "y"
         },
         {
          "font": {
           "color": "#FFFFFF"
          },
          "showarrow": false,
          "text": "",
          "x": "Speed",
          "xref": "x",
          "y": "Accuracy",
          "yref": "y"
         },
         {
          "font": {
           "color": "#FFFFFF"
          },
          "showarrow": false,
          "text": "-0.03775",
          "x": "Accuracy",
          "xref": "x",
          "y": "Bearing",
          "yref": "y"
         },
         {
          "font": {
           "color": "#FFFFFF"
          },
          "showarrow": false,
          "text": "",
          "x": "Bearing",
          "xref": "x",
          "y": "Bearing",
          "yref": "y"
         },
         {
          "font": {
           "color": "#FFFFFF"
          },
          "showarrow": false,
          "text": "",
          "x": "acceleration_x",
          "xref": "x",
          "y": "Bearing",
          "yref": "y"
         },
         {
          "font": {
           "color": "#FFFFFF"
          },
          "showarrow": false,
          "text": "",
          "x": "acceleration_y",
          "xref": "x",
          "y": "Bearing",
          "yref": "y"
         },
         {
          "font": {
           "color": "#FFFFFF"
          },
          "showarrow": false,
          "text": "",
          "x": "acceleration_z",
          "xref": "x",
          "y": "Bearing",
          "yref": "y"
         },
         {
          "font": {
           "color": "#FFFFFF"
          },
          "showarrow": false,
          "text": "",
          "x": "gyro_x",
          "xref": "x",
          "y": "Bearing",
          "yref": "y"
         },
         {
          "font": {
           "color": "#FFFFFF"
          },
          "showarrow": false,
          "text": "",
          "x": "gyro_y",
          "xref": "x",
          "y": "Bearing",
          "yref": "y"
         },
         {
          "font": {
           "color": "#FFFFFF"
          },
          "showarrow": false,
          "text": "",
          "x": "gyro_z",
          "xref": "x",
          "y": "Bearing",
          "yref": "y"
         },
         {
          "font": {
           "color": "#FFFFFF"
          },
          "showarrow": false,
          "text": "",
          "x": "second",
          "xref": "x",
          "y": "Bearing",
          "yref": "y"
         },
         {
          "font": {
           "color": "#FFFFFF"
          },
          "showarrow": false,
          "text": "",
          "x": "Speed",
          "xref": "x",
          "y": "Bearing",
          "yref": "y"
         },
         {
          "font": {
           "color": "#FFFFFF"
          },
          "showarrow": false,
          "text": "0.0168",
          "x": "Accuracy",
          "xref": "x",
          "y": "acceleration_x",
          "yref": "y"
         },
         {
          "font": {
           "color": "#FFFFFF"
          },
          "showarrow": false,
          "text": "0.00235",
          "x": "Bearing",
          "xref": "x",
          "y": "acceleration_x",
          "yref": "y"
         },
         {
          "font": {
           "color": "#FFFFFF"
          },
          "showarrow": false,
          "text": "",
          "x": "acceleration_x",
          "xref": "x",
          "y": "acceleration_x",
          "yref": "y"
         },
         {
          "font": {
           "color": "#FFFFFF"
          },
          "showarrow": false,
          "text": "",
          "x": "acceleration_y",
          "xref": "x",
          "y": "acceleration_x",
          "yref": "y"
         },
         {
          "font": {
           "color": "#FFFFFF"
          },
          "showarrow": false,
          "text": "",
          "x": "acceleration_z",
          "xref": "x",
          "y": "acceleration_x",
          "yref": "y"
         },
         {
          "font": {
           "color": "#FFFFFF"
          },
          "showarrow": false,
          "text": "",
          "x": "gyro_x",
          "xref": "x",
          "y": "acceleration_x",
          "yref": "y"
         },
         {
          "font": {
           "color": "#FFFFFF"
          },
          "showarrow": false,
          "text": "",
          "x": "gyro_y",
          "xref": "x",
          "y": "acceleration_x",
          "yref": "y"
         },
         {
          "font": {
           "color": "#FFFFFF"
          },
          "showarrow": false,
          "text": "",
          "x": "gyro_z",
          "xref": "x",
          "y": "acceleration_x",
          "yref": "y"
         },
         {
          "font": {
           "color": "#FFFFFF"
          },
          "showarrow": false,
          "text": "",
          "x": "second",
          "xref": "x",
          "y": "acceleration_x",
          "yref": "y"
         },
         {
          "font": {
           "color": "#FFFFFF"
          },
          "showarrow": false,
          "text": "",
          "x": "Speed",
          "xref": "x",
          "y": "acceleration_x",
          "yref": "y"
         },
         {
          "font": {
           "color": "#FFFFFF"
          },
          "showarrow": false,
          "text": "0.12086",
          "x": "Accuracy",
          "xref": "x",
          "y": "acceleration_y",
          "yref": "y"
         },
         {
          "font": {
           "color": "#FFFFFF"
          },
          "showarrow": false,
          "text": "-0.04094",
          "x": "Bearing",
          "xref": "x",
          "y": "acceleration_y",
          "yref": "y"
         },
         {
          "font": {
           "color": "#FFFFFF"
          },
          "showarrow": false,
          "text": "0.03492",
          "x": "acceleration_x",
          "xref": "x",
          "y": "acceleration_y",
          "yref": "y"
         },
         {
          "font": {
           "color": "#FFFFFF"
          },
          "showarrow": false,
          "text": "",
          "x": "acceleration_y",
          "xref": "x",
          "y": "acceleration_y",
          "yref": "y"
         },
         {
          "font": {
           "color": "#FFFFFF"
          },
          "showarrow": false,
          "text": "",
          "x": "acceleration_z",
          "xref": "x",
          "y": "acceleration_y",
          "yref": "y"
         },
         {
          "font": {
           "color": "#FFFFFF"
          },
          "showarrow": false,
          "text": "",
          "x": "gyro_x",
          "xref": "x",
          "y": "acceleration_y",
          "yref": "y"
         },
         {
          "font": {
           "color": "#FFFFFF"
          },
          "showarrow": false,
          "text": "",
          "x": "gyro_y",
          "xref": "x",
          "y": "acceleration_y",
          "yref": "y"
         },
         {
          "font": {
           "color": "#FFFFFF"
          },
          "showarrow": false,
          "text": "",
          "x": "gyro_z",
          "xref": "x",
          "y": "acceleration_y",
          "yref": "y"
         },
         {
          "font": {
           "color": "#FFFFFF"
          },
          "showarrow": false,
          "text": "",
          "x": "second",
          "xref": "x",
          "y": "acceleration_y",
          "yref": "y"
         },
         {
          "font": {
           "color": "#FFFFFF"
          },
          "showarrow": false,
          "text": "",
          "x": "Speed",
          "xref": "x",
          "y": "acceleration_y",
          "yref": "y"
         },
         {
          "font": {
           "color": "#FFFFFF"
          },
          "showarrow": false,
          "text": "0.0292",
          "x": "Accuracy",
          "xref": "x",
          "y": "acceleration_z",
          "yref": "y"
         },
         {
          "font": {
           "color": "#FFFFFF"
          },
          "showarrow": false,
          "text": "0.00168",
          "x": "Bearing",
          "xref": "x",
          "y": "acceleration_z",
          "yref": "y"
         },
         {
          "font": {
           "color": "#FFFFFF"
          },
          "showarrow": false,
          "text": "0.01708",
          "x": "acceleration_x",
          "xref": "x",
          "y": "acceleration_z",
          "yref": "y"
         },
         {
          "font": {
           "color": "#FFFFFF"
          },
          "showarrow": false,
          "text": "-0.08732",
          "x": "acceleration_y",
          "xref": "x",
          "y": "acceleration_z",
          "yref": "y"
         },
         {
          "font": {
           "color": "#FFFFFF"
          },
          "showarrow": false,
          "text": "",
          "x": "acceleration_z",
          "xref": "x",
          "y": "acceleration_z",
          "yref": "y"
         },
         {
          "font": {
           "color": "#FFFFFF"
          },
          "showarrow": false,
          "text": "",
          "x": "gyro_x",
          "xref": "x",
          "y": "acceleration_z",
          "yref": "y"
         },
         {
          "font": {
           "color": "#FFFFFF"
          },
          "showarrow": false,
          "text": "",
          "x": "gyro_y",
          "xref": "x",
          "y": "acceleration_z",
          "yref": "y"
         },
         {
          "font": {
           "color": "#FFFFFF"
          },
          "showarrow": false,
          "text": "",
          "x": "gyro_z",
          "xref": "x",
          "y": "acceleration_z",
          "yref": "y"
         },
         {
          "font": {
           "color": "#FFFFFF"
          },
          "showarrow": false,
          "text": "",
          "x": "second",
          "xref": "x",
          "y": "acceleration_z",
          "yref": "y"
         },
         {
          "font": {
           "color": "#FFFFFF"
          },
          "showarrow": false,
          "text": "",
          "x": "Speed",
          "xref": "x",
          "y": "acceleration_z",
          "yref": "y"
         },
         {
          "font": {
           "color": "#FFFFFF"
          },
          "showarrow": false,
          "text": "-8e-05",
          "x": "Accuracy",
          "xref": "x",
          "y": "gyro_x",
          "yref": "y"
         },
         {
          "font": {
           "color": "#FFFFFF"
          },
          "showarrow": false,
          "text": "-0.00454",
          "x": "Bearing",
          "xref": "x",
          "y": "gyro_x",
          "yref": "y"
         },
         {
          "font": {
           "color": "#FFFFFF"
          },
          "showarrow": false,
          "text": "-0.01019",
          "x": "acceleration_x",
          "xref": "x",
          "y": "gyro_x",
          "yref": "y"
         },
         {
          "font": {
           "color": "#FFFFFF"
          },
          "showarrow": false,
          "text": "0.01031",
          "x": "acceleration_y",
          "xref": "x",
          "y": "gyro_x",
          "yref": "y"
         },
         {
          "font": {
           "color": "#FFFFFF"
          },
          "showarrow": false,
          "text": "-0.02447",
          "x": "acceleration_z",
          "xref": "x",
          "y": "gyro_x",
          "yref": "y"
         },
         {
          "font": {
           "color": "#FFFFFF"
          },
          "showarrow": false,
          "text": "",
          "x": "gyro_x",
          "xref": "x",
          "y": "gyro_x",
          "yref": "y"
         },
         {
          "font": {
           "color": "#FFFFFF"
          },
          "showarrow": false,
          "text": "",
          "x": "gyro_y",
          "xref": "x",
          "y": "gyro_x",
          "yref": "y"
         },
         {
          "font": {
           "color": "#FFFFFF"
          },
          "showarrow": false,
          "text": "",
          "x": "gyro_z",
          "xref": "x",
          "y": "gyro_x",
          "yref": "y"
         },
         {
          "font": {
           "color": "#FFFFFF"
          },
          "showarrow": false,
          "text": "",
          "x": "second",
          "xref": "x",
          "y": "gyro_x",
          "yref": "y"
         },
         {
          "font": {
           "color": "#FFFFFF"
          },
          "showarrow": false,
          "text": "",
          "x": "Speed",
          "xref": "x",
          "y": "gyro_x",
          "yref": "y"
         },
         {
          "font": {
           "color": "#FFFFFF"
          },
          "showarrow": false,
          "text": "-7e-05",
          "x": "Accuracy",
          "xref": "x",
          "y": "gyro_y",
          "yref": "y"
         },
         {
          "font": {
           "color": "#FFFFFF"
          },
          "showarrow": false,
          "text": "-0.00871",
          "x": "Bearing",
          "xref": "x",
          "y": "gyro_y",
          "yref": "y"
         },
         {
          "font": {
           "color": "#FFFFFF"
          },
          "showarrow": false,
          "text": "-0.08996",
          "x": "acceleration_x",
          "xref": "x",
          "y": "gyro_y",
          "yref": "y"
         },
         {
          "font": {
           "color": "#FFFFFF"
          },
          "showarrow": false,
          "text": "-0.00781",
          "x": "acceleration_y",
          "xref": "x",
          "y": "gyro_y",
          "yref": "y"
         },
         {
          "font": {
           "color": "#FFFFFF"
          },
          "showarrow": false,
          "text": "0.00734",
          "x": "acceleration_z",
          "xref": "x",
          "y": "gyro_y",
          "yref": "y"
         },
         {
          "font": {
           "color": "#FFFFFF"
          },
          "showarrow": false,
          "text": "0.02831",
          "x": "gyro_x",
          "xref": "x",
          "y": "gyro_y",
          "yref": "y"
         },
         {
          "font": {
           "color": "#FFFFFF"
          },
          "showarrow": false,
          "text": "",
          "x": "gyro_y",
          "xref": "x",
          "y": "gyro_y",
          "yref": "y"
         },
         {
          "font": {
           "color": "#FFFFFF"
          },
          "showarrow": false,
          "text": "",
          "x": "gyro_z",
          "xref": "x",
          "y": "gyro_y",
          "yref": "y"
         },
         {
          "font": {
           "color": "#FFFFFF"
          },
          "showarrow": false,
          "text": "",
          "x": "second",
          "xref": "x",
          "y": "gyro_y",
          "yref": "y"
         },
         {
          "font": {
           "color": "#FFFFFF"
          },
          "showarrow": false,
          "text": "",
          "x": "Speed",
          "xref": "x",
          "y": "gyro_y",
          "yref": "y"
         },
         {
          "font": {
           "color": "#FFFFFF"
          },
          "showarrow": false,
          "text": "0.00116",
          "x": "Accuracy",
          "xref": "x",
          "y": "gyro_z",
          "yref": "y"
         },
         {
          "font": {
           "color": "#FFFFFF"
          },
          "showarrow": false,
          "text": "-0.0023",
          "x": "Bearing",
          "xref": "x",
          "y": "gyro_z",
          "yref": "y"
         },
         {
          "font": {
           "color": "#FFFFFF"
          },
          "showarrow": false,
          "text": "0.00497",
          "x": "acceleration_x",
          "xref": "x",
          "y": "gyro_z",
          "yref": "y"
         },
         {
          "font": {
           "color": "#FFFFFF"
          },
          "showarrow": false,
          "text": "0.00156",
          "x": "acceleration_y",
          "xref": "x",
          "y": "gyro_z",
          "yref": "y"
         },
         {
          "font": {
           "color": "#FFFFFF"
          },
          "showarrow": false,
          "text": "-0.01475",
          "x": "acceleration_z",
          "xref": "x",
          "y": "gyro_z",
          "yref": "y"
         },
         {
          "font": {
           "color": "#FFFFFF"
          },
          "showarrow": false,
          "text": "-0.01782",
          "x": "gyro_x",
          "xref": "x",
          "y": "gyro_z",
          "yref": "y"
         },
         {
          "font": {
           "color": "#FFFFFF"
          },
          "showarrow": false,
          "text": "0.15249",
          "x": "gyro_y",
          "xref": "x",
          "y": "gyro_z",
          "yref": "y"
         },
         {
          "font": {
           "color": "#FFFFFF"
          },
          "showarrow": false,
          "text": "",
          "x": "gyro_z",
          "xref": "x",
          "y": "gyro_z",
          "yref": "y"
         },
         {
          "font": {
           "color": "#FFFFFF"
          },
          "showarrow": false,
          "text": "",
          "x": "second",
          "xref": "x",
          "y": "gyro_z",
          "yref": "y"
         },
         {
          "font": {
           "color": "#FFFFFF"
          },
          "showarrow": false,
          "text": "",
          "x": "Speed",
          "xref": "x",
          "y": "gyro_z",
          "yref": "y"
         },
         {
          "font": {
           "color": "#FFFFFF"
          },
          "showarrow": false,
          "text": "-0.02593",
          "x": "Accuracy",
          "xref": "x",
          "y": "second",
          "yref": "y"
         },
         {
          "font": {
           "color": "#FFFFFF"
          },
          "showarrow": false,
          "text": "0.00893",
          "x": "Bearing",
          "xref": "x",
          "y": "second",
          "yref": "y"
         },
         {
          "font": {
           "color": "#FFFFFF"
          },
          "showarrow": false,
          "text": "0.00272",
          "x": "acceleration_x",
          "xref": "x",
          "y": "second",
          "yref": "y"
         },
         {
          "font": {
           "color": "#FFFFFF"
          },
          "showarrow": false,
          "text": "-0.0763",
          "x": "acceleration_y",
          "xref": "x",
          "y": "second",
          "yref": "y"
         },
         {
          "font": {
           "color": "#FFFFFF"
          },
          "showarrow": false,
          "text": "-0.0222",
          "x": "acceleration_z",
          "xref": "x",
          "y": "second",
          "yref": "y"
         },
         {
          "font": {
           "color": "#FFFFFF"
          },
          "showarrow": false,
          "text": "0.00036",
          "x": "gyro_x",
          "xref": "x",
          "y": "second",
          "yref": "y"
         },
         {
          "font": {
           "color": "#FFFFFF"
          },
          "showarrow": false,
          "text": "0.01323",
          "x": "gyro_y",
          "xref": "x",
          "y": "second",
          "yref": "y"
         },
         {
          "font": {
           "color": "#FFFFFF"
          },
          "showarrow": false,
          "text": "0.00505",
          "x": "gyro_z",
          "xref": "x",
          "y": "second",
          "yref": "y"
         },
         {
          "font": {
           "color": "#FFFFFF"
          },
          "showarrow": false,
          "text": "",
          "x": "second",
          "xref": "x",
          "y": "second",
          "yref": "y"
         },
         {
          "font": {
           "color": "#FFFFFF"
          },
          "showarrow": false,
          "text": "",
          "x": "Speed",
          "xref": "x",
          "y": "second",
          "yref": "y"
         },
         {
          "font": {
           "color": "#FFFFFF"
          },
          "showarrow": false,
          "text": "-0.23557",
          "x": "Accuracy",
          "xref": "x",
          "y": "Speed",
          "yref": "y"
         },
         {
          "font": {
           "color": "#FFFFFF"
          },
          "showarrow": false,
          "text": "0.08712",
          "x": "Bearing",
          "xref": "x",
          "y": "Speed",
          "yref": "y"
         },
         {
          "font": {
           "color": "#FFFFFF"
          },
          "showarrow": false,
          "text": "-0.02966",
          "x": "acceleration_x",
          "xref": "x",
          "y": "Speed",
          "yref": "y"
         },
         {
          "font": {
           "color": "#FFFFFF"
          },
          "showarrow": false,
          "text": "-0.5668",
          "x": "acceleration_y",
          "xref": "x",
          "y": "Speed",
          "yref": "y"
         },
         {
          "font": {
           "color": "#FFFFFF"
          },
          "showarrow": false,
          "text": "-0.10246",
          "x": "acceleration_z",
          "xref": "x",
          "y": "Speed",
          "yref": "y"
         },
         {
          "font": {
           "color": "#FFFFFF"
          },
          "showarrow": false,
          "text": "-0.0065",
          "x": "gyro_x",
          "xref": "x",
          "y": "Speed",
          "yref": "y"
         },
         {
          "font": {
           "color": "#FFFFFF"
          },
          "showarrow": false,
          "text": "0.00382",
          "x": "gyro_y",
          "xref": "x",
          "y": "Speed",
          "yref": "y"
         },
         {
          "font": {
           "color": "#FFFFFF"
          },
          "showarrow": false,
          "text": "0.00246",
          "x": "gyro_z",
          "xref": "x",
          "y": "Speed",
          "yref": "y"
         },
         {
          "font": {
           "color": "#FFFFFF"
          },
          "showarrow": false,
          "text": "0.10961",
          "x": "second",
          "xref": "x",
          "y": "Speed",
          "yref": "y"
         },
         {
          "font": {
           "color": "#FFFFFF"
          },
          "showarrow": false,
          "text": "",
          "x": "Speed",
          "xref": "x",
          "y": "Speed",
          "yref": "y"
         }
        ],
        "height": 1000,
        "template": {
         "data": {
          "bar": [
           {
            "error_x": {
             "color": "#2a3f5f"
            },
            "error_y": {
             "color": "#2a3f5f"
            },
            "marker": {
             "line": {
              "color": "white",
              "width": 0.5
             },
             "pattern": {
              "fillmode": "overlay",
              "size": 10,
              "solidity": 0.2
             }
            },
            "type": "bar"
           }
          ],
          "barpolar": [
           {
            "marker": {
             "line": {
              "color": "white",
              "width": 0.5
             },
             "pattern": {
              "fillmode": "overlay",
              "size": 10,
              "solidity": 0.2
             }
            },
            "type": "barpolar"
           }
          ],
          "carpet": [
           {
            "aaxis": {
             "endlinecolor": "#2a3f5f",
             "gridcolor": "#C8D4E3",
             "linecolor": "#C8D4E3",
             "minorgridcolor": "#C8D4E3",
             "startlinecolor": "#2a3f5f"
            },
            "baxis": {
             "endlinecolor": "#2a3f5f",
             "gridcolor": "#C8D4E3",
             "linecolor": "#C8D4E3",
             "minorgridcolor": "#C8D4E3",
             "startlinecolor": "#2a3f5f"
            },
            "type": "carpet"
           }
          ],
          "choropleth": [
           {
            "colorbar": {
             "outlinewidth": 0,
             "ticks": ""
            },
            "type": "choropleth"
           }
          ],
          "contour": [
           {
            "colorbar": {
             "outlinewidth": 0,
             "ticks": ""
            },
            "colorscale": [
             [
              0,
              "#0d0887"
             ],
             [
              0.1111111111111111,
              "#46039f"
             ],
             [
              0.2222222222222222,
              "#7201a8"
             ],
             [
              0.3333333333333333,
              "#9c179e"
             ],
             [
              0.4444444444444444,
              "#bd3786"
             ],
             [
              0.5555555555555556,
              "#d8576b"
             ],
             [
              0.6666666666666666,
              "#ed7953"
             ],
             [
              0.7777777777777778,
              "#fb9f3a"
             ],
             [
              0.8888888888888888,
              "#fdca26"
             ],
             [
              1,
              "#f0f921"
             ]
            ],
            "type": "contour"
           }
          ],
          "contourcarpet": [
           {
            "colorbar": {
             "outlinewidth": 0,
             "ticks": ""
            },
            "type": "contourcarpet"
           }
          ],
          "heatmap": [
           {
            "colorbar": {
             "outlinewidth": 0,
             "ticks": ""
            },
            "colorscale": [
             [
              0,
              "#0d0887"
             ],
             [
              0.1111111111111111,
              "#46039f"
             ],
             [
              0.2222222222222222,
              "#7201a8"
             ],
             [
              0.3333333333333333,
              "#9c179e"
             ],
             [
              0.4444444444444444,
              "#bd3786"
             ],
             [
              0.5555555555555556,
              "#d8576b"
             ],
             [
              0.6666666666666666,
              "#ed7953"
             ],
             [
              0.7777777777777778,
              "#fb9f3a"
             ],
             [
              0.8888888888888888,
              "#fdca26"
             ],
             [
              1,
              "#f0f921"
             ]
            ],
            "type": "heatmap"
           }
          ],
          "heatmapgl": [
           {
            "colorbar": {
             "outlinewidth": 0,
             "ticks": ""
            },
            "colorscale": [
             [
              0,
              "#0d0887"
             ],
             [
              0.1111111111111111,
              "#46039f"
             ],
             [
              0.2222222222222222,
              "#7201a8"
             ],
             [
              0.3333333333333333,
              "#9c179e"
             ],
             [
              0.4444444444444444,
              "#bd3786"
             ],
             [
              0.5555555555555556,
              "#d8576b"
             ],
             [
              0.6666666666666666,
              "#ed7953"
             ],
             [
              0.7777777777777778,
              "#fb9f3a"
             ],
             [
              0.8888888888888888,
              "#fdca26"
             ],
             [
              1,
              "#f0f921"
             ]
            ],
            "type": "heatmapgl"
           }
          ],
          "histogram": [
           {
            "marker": {
             "pattern": {
              "fillmode": "overlay",
              "size": 10,
              "solidity": 0.2
             }
            },
            "type": "histogram"
           }
          ],
          "histogram2d": [
           {
            "colorbar": {
             "outlinewidth": 0,
             "ticks": ""
            },
            "colorscale": [
             [
              0,
              "#0d0887"
             ],
             [
              0.1111111111111111,
              "#46039f"
             ],
             [
              0.2222222222222222,
              "#7201a8"
             ],
             [
              0.3333333333333333,
              "#9c179e"
             ],
             [
              0.4444444444444444,
              "#bd3786"
             ],
             [
              0.5555555555555556,
              "#d8576b"
             ],
             [
              0.6666666666666666,
              "#ed7953"
             ],
             [
              0.7777777777777778,
              "#fb9f3a"
             ],
             [
              0.8888888888888888,
              "#fdca26"
             ],
             [
              1,
              "#f0f921"
             ]
            ],
            "type": "histogram2d"
           }
          ],
          "histogram2dcontour": [
           {
            "colorbar": {
             "outlinewidth": 0,
             "ticks": ""
            },
            "colorscale": [
             [
              0,
              "#0d0887"
             ],
             [
              0.1111111111111111,
              "#46039f"
             ],
             [
              0.2222222222222222,
              "#7201a8"
             ],
             [
              0.3333333333333333,
              "#9c179e"
             ],
             [
              0.4444444444444444,
              "#bd3786"
             ],
             [
              0.5555555555555556,
              "#d8576b"
             ],
             [
              0.6666666666666666,
              "#ed7953"
             ],
             [
              0.7777777777777778,
              "#fb9f3a"
             ],
             [
              0.8888888888888888,
              "#fdca26"
             ],
             [
              1,
              "#f0f921"
             ]
            ],
            "type": "histogram2dcontour"
           }
          ],
          "mesh3d": [
           {
            "colorbar": {
             "outlinewidth": 0,
             "ticks": ""
            },
            "type": "mesh3d"
           }
          ],
          "parcoords": [
           {
            "line": {
             "colorbar": {
              "outlinewidth": 0,
              "ticks": ""
             }
            },
            "type": "parcoords"
           }
          ],
          "pie": [
           {
            "automargin": true,
            "type": "pie"
           }
          ],
          "scatter": [
           {
            "marker": {
             "colorbar": {
              "outlinewidth": 0,
              "ticks": ""
             }
            },
            "type": "scatter"
           }
          ],
          "scatter3d": [
           {
            "line": {
             "colorbar": {
              "outlinewidth": 0,
              "ticks": ""
             }
            },
            "marker": {
             "colorbar": {
              "outlinewidth": 0,
              "ticks": ""
             }
            },
            "type": "scatter3d"
           }
          ],
          "scattercarpet": [
           {
            "marker": {
             "colorbar": {
              "outlinewidth": 0,
              "ticks": ""
             }
            },
            "type": "scattercarpet"
           }
          ],
          "scattergeo": [
           {
            "marker": {
             "colorbar": {
              "outlinewidth": 0,
              "ticks": ""
             }
            },
            "type": "scattergeo"
           }
          ],
          "scattergl": [
           {
            "marker": {
             "colorbar": {
              "outlinewidth": 0,
              "ticks": ""
             }
            },
            "type": "scattergl"
           }
          ],
          "scattermapbox": [
           {
            "marker": {
             "colorbar": {
              "outlinewidth": 0,
              "ticks": ""
             }
            },
            "type": "scattermapbox"
           }
          ],
          "scatterpolar": [
           {
            "marker": {
             "colorbar": {
              "outlinewidth": 0,
              "ticks": ""
             }
            },
            "type": "scatterpolar"
           }
          ],
          "scatterpolargl": [
           {
            "marker": {
             "colorbar": {
              "outlinewidth": 0,
              "ticks": ""
             }
            },
            "type": "scatterpolargl"
           }
          ],
          "scatterternary": [
           {
            "marker": {
             "colorbar": {
              "outlinewidth": 0,
              "ticks": ""
             }
            },
            "type": "scatterternary"
           }
          ],
          "surface": [
           {
            "colorbar": {
             "outlinewidth": 0,
             "ticks": ""
            },
            "colorscale": [
             [
              0,
              "#0d0887"
             ],
             [
              0.1111111111111111,
              "#46039f"
             ],
             [
              0.2222222222222222,
              "#7201a8"
             ],
             [
              0.3333333333333333,
              "#9c179e"
             ],
             [
              0.4444444444444444,
              "#bd3786"
             ],
             [
              0.5555555555555556,
              "#d8576b"
             ],
             [
              0.6666666666666666,
              "#ed7953"
             ],
             [
              0.7777777777777778,
              "#fb9f3a"
             ],
             [
              0.8888888888888888,
              "#fdca26"
             ],
             [
              1,
              "#f0f921"
             ]
            ],
            "type": "surface"
           }
          ],
          "table": [
           {
            "cells": {
             "fill": {
              "color": "#EBF0F8"
             },
             "line": {
              "color": "white"
             }
            },
            "header": {
             "fill": {
              "color": "#C8D4E3"
             },
             "line": {
              "color": "white"
             }
            },
            "type": "table"
           }
          ]
         },
         "layout": {
          "annotationdefaults": {
           "arrowcolor": "#2a3f5f",
           "arrowhead": 0,
           "arrowwidth": 1
          },
          "autotypenumbers": "strict",
          "coloraxis": {
           "colorbar": {
            "outlinewidth": 0,
            "ticks": ""
           }
          },
          "colorscale": {
           "diverging": [
            [
             0,
             "#8e0152"
            ],
            [
             0.1,
             "#c51b7d"
            ],
            [
             0.2,
             "#de77ae"
            ],
            [
             0.3,
             "#f1b6da"
            ],
            [
             0.4,
             "#fde0ef"
            ],
            [
             0.5,
             "#f7f7f7"
            ],
            [
             0.6,
             "#e6f5d0"
            ],
            [
             0.7,
             "#b8e186"
            ],
            [
             0.8,
             "#7fbc41"
            ],
            [
             0.9,
             "#4d9221"
            ],
            [
             1,
             "#276419"
            ]
           ],
           "sequential": [
            [
             0,
             "#0d0887"
            ],
            [
             0.1111111111111111,
             "#46039f"
            ],
            [
             0.2222222222222222,
             "#7201a8"
            ],
            [
             0.3333333333333333,
             "#9c179e"
            ],
            [
             0.4444444444444444,
             "#bd3786"
            ],
            [
             0.5555555555555556,
             "#d8576b"
            ],
            [
             0.6666666666666666,
             "#ed7953"
            ],
            [
             0.7777777777777778,
             "#fb9f3a"
            ],
            [
             0.8888888888888888,
             "#fdca26"
            ],
            [
             1,
             "#f0f921"
            ]
           ],
           "sequentialminus": [
            [
             0,
             "#0d0887"
            ],
            [
             0.1111111111111111,
             "#46039f"
            ],
            [
             0.2222222222222222,
             "#7201a8"
            ],
            [
             0.3333333333333333,
             "#9c179e"
            ],
            [
             0.4444444444444444,
             "#bd3786"
            ],
            [
             0.5555555555555556,
             "#d8576b"
            ],
            [
             0.6666666666666666,
             "#ed7953"
            ],
            [
             0.7777777777777778,
             "#fb9f3a"
            ],
            [
             0.8888888888888888,
             "#fdca26"
            ],
            [
             1,
             "#f0f921"
            ]
           ]
          },
          "colorway": [
           "#636efa",
           "#EF553B",
           "#00cc96",
           "#ab63fa",
           "#FFA15A",
           "#19d3f3",
           "#FF6692",
           "#B6E880",
           "#FF97FF",
           "#FECB52"
          ],
          "font": {
           "color": "#2a3f5f"
          },
          "geo": {
           "bgcolor": "white",
           "lakecolor": "white",
           "landcolor": "white",
           "showlakes": true,
           "showland": true,
           "subunitcolor": "#C8D4E3"
          },
          "hoverlabel": {
           "align": "left"
          },
          "hovermode": "closest",
          "mapbox": {
           "style": "light"
          },
          "paper_bgcolor": "white",
          "plot_bgcolor": "white",
          "polar": {
           "angularaxis": {
            "gridcolor": "#EBF0F8",
            "linecolor": "#EBF0F8",
            "ticks": ""
           },
           "bgcolor": "white",
           "radialaxis": {
            "gridcolor": "#EBF0F8",
            "linecolor": "#EBF0F8",
            "ticks": ""
           }
          },
          "scene": {
           "xaxis": {
            "backgroundcolor": "white",
            "gridcolor": "#DFE8F3",
            "gridwidth": 2,
            "linecolor": "#EBF0F8",
            "showbackground": true,
            "ticks": "",
            "zerolinecolor": "#EBF0F8"
           },
           "yaxis": {
            "backgroundcolor": "white",
            "gridcolor": "#DFE8F3",
            "gridwidth": 2,
            "linecolor": "#EBF0F8",
            "showbackground": true,
            "ticks": "",
            "zerolinecolor": "#EBF0F8"
           },
           "zaxis": {
            "backgroundcolor": "white",
            "gridcolor": "#DFE8F3",
            "gridwidth": 2,
            "linecolor": "#EBF0F8",
            "showbackground": true,
            "ticks": "",
            "zerolinecolor": "#EBF0F8"
           }
          },
          "shapedefaults": {
           "line": {
            "color": "#2a3f5f"
           }
          },
          "ternary": {
           "aaxis": {
            "gridcolor": "#DFE8F3",
            "linecolor": "#A2B1C6",
            "ticks": ""
           },
           "baxis": {
            "gridcolor": "#DFE8F3",
            "linecolor": "#A2B1C6",
            "ticks": ""
           },
           "bgcolor": "white",
           "caxis": {
            "gridcolor": "#DFE8F3",
            "linecolor": "#A2B1C6",
            "ticks": ""
           }
          },
          "title": {
           "x": 0.05
          },
          "xaxis": {
           "automargin": true,
           "gridcolor": "#EBF0F8",
           "linecolor": "#EBF0F8",
           "ticks": "",
           "title": {
            "standoff": 15
           },
           "zerolinecolor": "#EBF0F8",
           "zerolinewidth": 2
          },
          "yaxis": {
           "automargin": true,
           "gridcolor": "#EBF0F8",
           "linecolor": "#EBF0F8",
           "ticks": "",
           "title": {
            "standoff": 15
           },
           "zerolinecolor": "#EBF0F8",
           "zerolinewidth": 2
          }
         }
        },
        "title": {
         "font": {
          "size": 22
         },
         "text": "Correlation for Safe Trips",
         "x": 0.5
        },
        "width": 1000,
        "xaxis": {
         "dtick": 1,
         "gridcolor": "rgb(0, 0, 0)",
         "showgrid": false,
         "side": "bottom",
         "ticks": "",
         "zeroline": false
        },
        "yaxis": {
         "autorange": "reversed",
         "dtick": 1,
         "showgrid": false,
         "ticks": "",
         "ticksuffix": "  ",
         "zeroline": false
        }
       }
      }
     },
     "metadata": {},
     "output_type": "display_data"
    }
   ],
   "source": [
    "import plotly.io as pio\n",
    "import plotly.express as px\n",
    "import plotly.graph_objects as go\n",
    "import matplotlib.pyplot as plt\n",
    "import numpy as np\n",
    "import plotly.figure_factory as ff\n",
    "\n",
    "# safe10 is all the safe data\n",
    "safe10 = df[df['label']==0]\n",
    "safe10 = safe10[safe10['Accuracy']<=3]\n",
    "df1=safe10.drop(['label','bookingID'], axis=1)\n",
    "corr = df1.corr().round(5)\n",
    "mask = np.triu(np.ones_like(corr, dtype=bool))\n",
    "df_mask = corr.mask(mask)\n",
    "\n",
    "fig = ff.create_annotated_heatmap(z=df_mask.to_numpy(), \n",
    "                                  x=df_mask.columns.tolist(),\n",
    "                                  y=df_mask.columns.tolist(),\n",
    "                                  colorscale=px.colors.diverging.Tealrose,\n",
    "                                  hoverinfo=\"none\", #Shows hoverinfo for null values\n",
    "                                  showscale=True, ygap=1, xgap=1\n",
    "                                 )\n",
    "\n",
    "fig.update_xaxes(side=\"bottom\")\n",
    "\n",
    "fig.update_layout(\n",
    "    title_text='Correlation for Safe Trips', \n",
    "    title_x=0.5, \n",
    "    title_font_size=22,\n",
    "    width=1000, \n",
    "    height=1000,\n",
    "    xaxis_showgrid=False,\n",
    "    yaxis_showgrid=False,\n",
    "    xaxis_zeroline=False,\n",
    "    yaxis_zeroline=False,\n",
    "    yaxis_autorange='reversed',\n",
    "    template='plotly_white'\n",
    ")\n",
    "\n",
    "# NaN values are not handled automatically and are displayed in the figure\n",
    "# So we need to get rid of the text manually\n",
    "for i in range(len(fig.layout.annotations)):\n",
    "    if fig.layout.annotations[i].text == 'nan':\n",
    "        fig.layout.annotations[i].text = \"\"\n",
    "\n",
    "fig.show()"
   ]
  },
  {
   "cell_type": "markdown",
   "metadata": {},
   "source": [
    "According to Our Kloud, most GPS tracking devices are accurate to within three meters. Hence, two heatmaps were done to visualize the correlation between all the variables for records with accuracy within 3.\n",
    "This chart shows the correlation for safe trips. Overall, the correlation between the variables is quite low. However, among all the correlation values, speed and acceleration y seem to be the most correlated with a value of 0.121. While correlation between second and gyro z seems to be the lowest with a value of 0.00036 which is very close to 0. There are some variables which are negatively correlated. Speed and acceleration x has the highest negative correlation of -0.567."
   ]
  },
  {
   "cell_type": "markdown",
   "metadata": {},
   "source": [
    "## Correlation for Dangerous data"
   ]
  },
  {
   "cell_type": "code",
   "execution_count": 29,
   "metadata": {},
   "outputs": [
    {
     "data": {
      "application/vnd.plotly.v1+json": {
       "config": {
        "plotlyServerURL": "https://plot.ly"
       },
       "data": [
        {
         "colorscale": [
          [
           0,
           "rgb(0, 147, 146)"
          ],
          [
           0.16666666666666666,
           "rgb(114, 170, 161)"
          ],
          [
           0.3333333333333333,
           "rgb(177, 199, 179)"
          ],
          [
           0.5,
           "rgb(241, 234, 200)"
          ],
          [
           0.6666666666666666,
           "rgb(229, 185, 173)"
          ],
          [
           0.8333333333333334,
           "rgb(217, 137, 148)"
          ],
          [
           1,
           "rgb(208, 88, 126)"
          ]
         ],
         "hoverinfo": "none",
         "reversescale": false,
         "showscale": true,
         "type": "heatmap",
         "x": [
          "Accuracy",
          "Bearing",
          "acceleration_x",
          "acceleration_y",
          "acceleration_z",
          "gyro_x",
          "gyro_y",
          "gyro_z",
          "second",
          "Speed"
         ],
         "xgap": 1,
         "y": [
          "Accuracy",
          "Bearing",
          "acceleration_x",
          "acceleration_y",
          "acceleration_z",
          "gyro_x",
          "gyro_y",
          "gyro_z",
          "second",
          "Speed"
         ],
         "ygap": 1,
         "z": [
          [
           null,
           null,
           null,
           null,
           null,
           null,
           null,
           null,
           null,
           null
          ],
          [
           -0.0211,
           null,
           null,
           null,
           null,
           null,
           null,
           null,
           null,
           null
          ],
          [
           0.00242,
           0.0003,
           null,
           null,
           null,
           null,
           null,
           null,
           null,
           null
          ],
          [
           0.08876,
           -0.04008,
           0.00012,
           null,
           null,
           null,
           null,
           null,
           null,
           null
          ],
          [
           0.02575,
           0.01783,
           0.0037,
           -0.21158,
           null,
           null,
           null,
           null,
           null,
           null
          ],
          [
           0.0052,
           -0.00571,
           -0.01065,
           0.01026,
           -0.02122,
           null,
           null,
           null,
           null,
           null
          ],
          [
           0.00221,
           -0.00353,
           -0.04898,
           -0.00111,
           0.00367,
           0.04464,
           null,
           null,
           null,
           null
          ],
          [
           0.00358,
           0.00123,
           0.01792,
           -0.01136,
           -0.00835,
           -0.01924,
           0.12925,
           null,
           null,
           null
          ],
          [
           -0.0147,
           -0.01101,
           0.01929,
           -0.02584,
           0.00909,
           0.00523,
           0.00821,
           0.00407,
           null,
           null
          ],
          [
           -0.157,
           0.10753,
           -0.01005,
           -0.30135,
           -0.07343,
           -0.00792,
           0.00617,
           0.00206,
           0.129,
           null
          ]
         ]
        }
       ],
       "layout": {
        "annotations": [
         {
          "font": {
           "color": "#FFFFFF"
          },
          "showarrow": false,
          "text": "",
          "x": "Accuracy",
          "xref": "x",
          "y": "Accuracy",
          "yref": "y"
         },
         {
          "font": {
           "color": "#FFFFFF"
          },
          "showarrow": false,
          "text": "",
          "x": "Bearing",
          "xref": "x",
          "y": "Accuracy",
          "yref": "y"
         },
         {
          "font": {
           "color": "#FFFFFF"
          },
          "showarrow": false,
          "text": "",
          "x": "acceleration_x",
          "xref": "x",
          "y": "Accuracy",
          "yref": "y"
         },
         {
          "font": {
           "color": "#FFFFFF"
          },
          "showarrow": false,
          "text": "",
          "x": "acceleration_y",
          "xref": "x",
          "y": "Accuracy",
          "yref": "y"
         },
         {
          "font": {
           "color": "#FFFFFF"
          },
          "showarrow": false,
          "text": "",
          "x": "acceleration_z",
          "xref": "x",
          "y": "Accuracy",
          "yref": "y"
         },
         {
          "font": {
           "color": "#FFFFFF"
          },
          "showarrow": false,
          "text": "",
          "x": "gyro_x",
          "xref": "x",
          "y": "Accuracy",
          "yref": "y"
         },
         {
          "font": {
           "color": "#FFFFFF"
          },
          "showarrow": false,
          "text": "",
          "x": "gyro_y",
          "xref": "x",
          "y": "Accuracy",
          "yref": "y"
         },
         {
          "font": {
           "color": "#FFFFFF"
          },
          "showarrow": false,
          "text": "",
          "x": "gyro_z",
          "xref": "x",
          "y": "Accuracy",
          "yref": "y"
         },
         {
          "font": {
           "color": "#FFFFFF"
          },
          "showarrow": false,
          "text": "",
          "x": "second",
          "xref": "x",
          "y": "Accuracy",
          "yref": "y"
         },
         {
          "font": {
           "color": "#FFFFFF"
          },
          "showarrow": false,
          "text": "",
          "x": "Speed",
          "xref": "x",
          "y": "Accuracy",
          "yref": "y"
         },
         {
          "font": {
           "color": "#FFFFFF"
          },
          "showarrow": false,
          "text": "-0.0211",
          "x": "Accuracy",
          "xref": "x",
          "y": "Bearing",
          "yref": "y"
         },
         {
          "font": {
           "color": "#FFFFFF"
          },
          "showarrow": false,
          "text": "",
          "x": "Bearing",
          "xref": "x",
          "y": "Bearing",
          "yref": "y"
         },
         {
          "font": {
           "color": "#FFFFFF"
          },
          "showarrow": false,
          "text": "",
          "x": "acceleration_x",
          "xref": "x",
          "y": "Bearing",
          "yref": "y"
         },
         {
          "font": {
           "color": "#FFFFFF"
          },
          "showarrow": false,
          "text": "",
          "x": "acceleration_y",
          "xref": "x",
          "y": "Bearing",
          "yref": "y"
         },
         {
          "font": {
           "color": "#FFFFFF"
          },
          "showarrow": false,
          "text": "",
          "x": "acceleration_z",
          "xref": "x",
          "y": "Bearing",
          "yref": "y"
         },
         {
          "font": {
           "color": "#FFFFFF"
          },
          "showarrow": false,
          "text": "",
          "x": "gyro_x",
          "xref": "x",
          "y": "Bearing",
          "yref": "y"
         },
         {
          "font": {
           "color": "#FFFFFF"
          },
          "showarrow": false,
          "text": "",
          "x": "gyro_y",
          "xref": "x",
          "y": "Bearing",
          "yref": "y"
         },
         {
          "font": {
           "color": "#FFFFFF"
          },
          "showarrow": false,
          "text": "",
          "x": "gyro_z",
          "xref": "x",
          "y": "Bearing",
          "yref": "y"
         },
         {
          "font": {
           "color": "#FFFFFF"
          },
          "showarrow": false,
          "text": "",
          "x": "second",
          "xref": "x",
          "y": "Bearing",
          "yref": "y"
         },
         {
          "font": {
           "color": "#FFFFFF"
          },
          "showarrow": false,
          "text": "",
          "x": "Speed",
          "xref": "x",
          "y": "Bearing",
          "yref": "y"
         },
         {
          "font": {
           "color": "#FFFFFF"
          },
          "showarrow": false,
          "text": "0.00242",
          "x": "Accuracy",
          "xref": "x",
          "y": "acceleration_x",
          "yref": "y"
         },
         {
          "font": {
           "color": "#FFFFFF"
          },
          "showarrow": false,
          "text": "0.0003",
          "x": "Bearing",
          "xref": "x",
          "y": "acceleration_x",
          "yref": "y"
         },
         {
          "font": {
           "color": "#FFFFFF"
          },
          "showarrow": false,
          "text": "",
          "x": "acceleration_x",
          "xref": "x",
          "y": "acceleration_x",
          "yref": "y"
         },
         {
          "font": {
           "color": "#FFFFFF"
          },
          "showarrow": false,
          "text": "",
          "x": "acceleration_y",
          "xref": "x",
          "y": "acceleration_x",
          "yref": "y"
         },
         {
          "font": {
           "color": "#FFFFFF"
          },
          "showarrow": false,
          "text": "",
          "x": "acceleration_z",
          "xref": "x",
          "y": "acceleration_x",
          "yref": "y"
         },
         {
          "font": {
           "color": "#FFFFFF"
          },
          "showarrow": false,
          "text": "",
          "x": "gyro_x",
          "xref": "x",
          "y": "acceleration_x",
          "yref": "y"
         },
         {
          "font": {
           "color": "#FFFFFF"
          },
          "showarrow": false,
          "text": "",
          "x": "gyro_y",
          "xref": "x",
          "y": "acceleration_x",
          "yref": "y"
         },
         {
          "font": {
           "color": "#FFFFFF"
          },
          "showarrow": false,
          "text": "",
          "x": "gyro_z",
          "xref": "x",
          "y": "acceleration_x",
          "yref": "y"
         },
         {
          "font": {
           "color": "#FFFFFF"
          },
          "showarrow": false,
          "text": "",
          "x": "second",
          "xref": "x",
          "y": "acceleration_x",
          "yref": "y"
         },
         {
          "font": {
           "color": "#FFFFFF"
          },
          "showarrow": false,
          "text": "",
          "x": "Speed",
          "xref": "x",
          "y": "acceleration_x",
          "yref": "y"
         },
         {
          "font": {
           "color": "#FFFFFF"
          },
          "showarrow": false,
          "text": "0.08876",
          "x": "Accuracy",
          "xref": "x",
          "y": "acceleration_y",
          "yref": "y"
         },
         {
          "font": {
           "color": "#FFFFFF"
          },
          "showarrow": false,
          "text": "-0.04008",
          "x": "Bearing",
          "xref": "x",
          "y": "acceleration_y",
          "yref": "y"
         },
         {
          "font": {
           "color": "#FFFFFF"
          },
          "showarrow": false,
          "text": "0.00012",
          "x": "acceleration_x",
          "xref": "x",
          "y": "acceleration_y",
          "yref": "y"
         },
         {
          "font": {
           "color": "#FFFFFF"
          },
          "showarrow": false,
          "text": "",
          "x": "acceleration_y",
          "xref": "x",
          "y": "acceleration_y",
          "yref": "y"
         },
         {
          "font": {
           "color": "#FFFFFF"
          },
          "showarrow": false,
          "text": "",
          "x": "acceleration_z",
          "xref": "x",
          "y": "acceleration_y",
          "yref": "y"
         },
         {
          "font": {
           "color": "#FFFFFF"
          },
          "showarrow": false,
          "text": "",
          "x": "gyro_x",
          "xref": "x",
          "y": "acceleration_y",
          "yref": "y"
         },
         {
          "font": {
           "color": "#FFFFFF"
          },
          "showarrow": false,
          "text": "",
          "x": "gyro_y",
          "xref": "x",
          "y": "acceleration_y",
          "yref": "y"
         },
         {
          "font": {
           "color": "#FFFFFF"
          },
          "showarrow": false,
          "text": "",
          "x": "gyro_z",
          "xref": "x",
          "y": "acceleration_y",
          "yref": "y"
         },
         {
          "font": {
           "color": "#FFFFFF"
          },
          "showarrow": false,
          "text": "",
          "x": "second",
          "xref": "x",
          "y": "acceleration_y",
          "yref": "y"
         },
         {
          "font": {
           "color": "#FFFFFF"
          },
          "showarrow": false,
          "text": "",
          "x": "Speed",
          "xref": "x",
          "y": "acceleration_y",
          "yref": "y"
         },
         {
          "font": {
           "color": "#FFFFFF"
          },
          "showarrow": false,
          "text": "0.02575",
          "x": "Accuracy",
          "xref": "x",
          "y": "acceleration_z",
          "yref": "y"
         },
         {
          "font": {
           "color": "#FFFFFF"
          },
          "showarrow": false,
          "text": "0.01783",
          "x": "Bearing",
          "xref": "x",
          "y": "acceleration_z",
          "yref": "y"
         },
         {
          "font": {
           "color": "#FFFFFF"
          },
          "showarrow": false,
          "text": "0.0037",
          "x": "acceleration_x",
          "xref": "x",
          "y": "acceleration_z",
          "yref": "y"
         },
         {
          "font": {
           "color": "#FFFFFF"
          },
          "showarrow": false,
          "text": "-0.21158",
          "x": "acceleration_y",
          "xref": "x",
          "y": "acceleration_z",
          "yref": "y"
         },
         {
          "font": {
           "color": "#FFFFFF"
          },
          "showarrow": false,
          "text": "",
          "x": "acceleration_z",
          "xref": "x",
          "y": "acceleration_z",
          "yref": "y"
         },
         {
          "font": {
           "color": "#FFFFFF"
          },
          "showarrow": false,
          "text": "",
          "x": "gyro_x",
          "xref": "x",
          "y": "acceleration_z",
          "yref": "y"
         },
         {
          "font": {
           "color": "#FFFFFF"
          },
          "showarrow": false,
          "text": "",
          "x": "gyro_y",
          "xref": "x",
          "y": "acceleration_z",
          "yref": "y"
         },
         {
          "font": {
           "color": "#FFFFFF"
          },
          "showarrow": false,
          "text": "",
          "x": "gyro_z",
          "xref": "x",
          "y": "acceleration_z",
          "yref": "y"
         },
         {
          "font": {
           "color": "#FFFFFF"
          },
          "showarrow": false,
          "text": "",
          "x": "second",
          "xref": "x",
          "y": "acceleration_z",
          "yref": "y"
         },
         {
          "font": {
           "color": "#FFFFFF"
          },
          "showarrow": false,
          "text": "",
          "x": "Speed",
          "xref": "x",
          "y": "acceleration_z",
          "yref": "y"
         },
         {
          "font": {
           "color": "#FFFFFF"
          },
          "showarrow": false,
          "text": "0.0052",
          "x": "Accuracy",
          "xref": "x",
          "y": "gyro_x",
          "yref": "y"
         },
         {
          "font": {
           "color": "#FFFFFF"
          },
          "showarrow": false,
          "text": "-0.00571",
          "x": "Bearing",
          "xref": "x",
          "y": "gyro_x",
          "yref": "y"
         },
         {
          "font": {
           "color": "#FFFFFF"
          },
          "showarrow": false,
          "text": "-0.01065",
          "x": "acceleration_x",
          "xref": "x",
          "y": "gyro_x",
          "yref": "y"
         },
         {
          "font": {
           "color": "#FFFFFF"
          },
          "showarrow": false,
          "text": "0.01026",
          "x": "acceleration_y",
          "xref": "x",
          "y": "gyro_x",
          "yref": "y"
         },
         {
          "font": {
           "color": "#FFFFFF"
          },
          "showarrow": false,
          "text": "-0.02122",
          "x": "acceleration_z",
          "xref": "x",
          "y": "gyro_x",
          "yref": "y"
         },
         {
          "font": {
           "color": "#FFFFFF"
          },
          "showarrow": false,
          "text": "",
          "x": "gyro_x",
          "xref": "x",
          "y": "gyro_x",
          "yref": "y"
         },
         {
          "font": {
           "color": "#FFFFFF"
          },
          "showarrow": false,
          "text": "",
          "x": "gyro_y",
          "xref": "x",
          "y": "gyro_x",
          "yref": "y"
         },
         {
          "font": {
           "color": "#FFFFFF"
          },
          "showarrow": false,
          "text": "",
          "x": "gyro_z",
          "xref": "x",
          "y": "gyro_x",
          "yref": "y"
         },
         {
          "font": {
           "color": "#FFFFFF"
          },
          "showarrow": false,
          "text": "",
          "x": "second",
          "xref": "x",
          "y": "gyro_x",
          "yref": "y"
         },
         {
          "font": {
           "color": "#FFFFFF"
          },
          "showarrow": false,
          "text": "",
          "x": "Speed",
          "xref": "x",
          "y": "gyro_x",
          "yref": "y"
         },
         {
          "font": {
           "color": "#FFFFFF"
          },
          "showarrow": false,
          "text": "0.00221",
          "x": "Accuracy",
          "xref": "x",
          "y": "gyro_y",
          "yref": "y"
         },
         {
          "font": {
           "color": "#FFFFFF"
          },
          "showarrow": false,
          "text": "-0.00353",
          "x": "Bearing",
          "xref": "x",
          "y": "gyro_y",
          "yref": "y"
         },
         {
          "font": {
           "color": "#FFFFFF"
          },
          "showarrow": false,
          "text": "-0.04898",
          "x": "acceleration_x",
          "xref": "x",
          "y": "gyro_y",
          "yref": "y"
         },
         {
          "font": {
           "color": "#FFFFFF"
          },
          "showarrow": false,
          "text": "-0.00111",
          "x": "acceleration_y",
          "xref": "x",
          "y": "gyro_y",
          "yref": "y"
         },
         {
          "font": {
           "color": "#FFFFFF"
          },
          "showarrow": false,
          "text": "0.00367",
          "x": "acceleration_z",
          "xref": "x",
          "y": "gyro_y",
          "yref": "y"
         },
         {
          "font": {
           "color": "#FFFFFF"
          },
          "showarrow": false,
          "text": "0.04464",
          "x": "gyro_x",
          "xref": "x",
          "y": "gyro_y",
          "yref": "y"
         },
         {
          "font": {
           "color": "#FFFFFF"
          },
          "showarrow": false,
          "text": "",
          "x": "gyro_y",
          "xref": "x",
          "y": "gyro_y",
          "yref": "y"
         },
         {
          "font": {
           "color": "#FFFFFF"
          },
          "showarrow": false,
          "text": "",
          "x": "gyro_z",
          "xref": "x",
          "y": "gyro_y",
          "yref": "y"
         },
         {
          "font": {
           "color": "#FFFFFF"
          },
          "showarrow": false,
          "text": "",
          "x": "second",
          "xref": "x",
          "y": "gyro_y",
          "yref": "y"
         },
         {
          "font": {
           "color": "#FFFFFF"
          },
          "showarrow": false,
          "text": "",
          "x": "Speed",
          "xref": "x",
          "y": "gyro_y",
          "yref": "y"
         },
         {
          "font": {
           "color": "#FFFFFF"
          },
          "showarrow": false,
          "text": "0.00358",
          "x": "Accuracy",
          "xref": "x",
          "y": "gyro_z",
          "yref": "y"
         },
         {
          "font": {
           "color": "#FFFFFF"
          },
          "showarrow": false,
          "text": "0.00123",
          "x": "Bearing",
          "xref": "x",
          "y": "gyro_z",
          "yref": "y"
         },
         {
          "font": {
           "color": "#FFFFFF"
          },
          "showarrow": false,
          "text": "0.01792",
          "x": "acceleration_x",
          "xref": "x",
          "y": "gyro_z",
          "yref": "y"
         },
         {
          "font": {
           "color": "#FFFFFF"
          },
          "showarrow": false,
          "text": "-0.01136",
          "x": "acceleration_y",
          "xref": "x",
          "y": "gyro_z",
          "yref": "y"
         },
         {
          "font": {
           "color": "#FFFFFF"
          },
          "showarrow": false,
          "text": "-0.00835",
          "x": "acceleration_z",
          "xref": "x",
          "y": "gyro_z",
          "yref": "y"
         },
         {
          "font": {
           "color": "#FFFFFF"
          },
          "showarrow": false,
          "text": "-0.01924",
          "x": "gyro_x",
          "xref": "x",
          "y": "gyro_z",
          "yref": "y"
         },
         {
          "font": {
           "color": "#FFFFFF"
          },
          "showarrow": false,
          "text": "0.12925",
          "x": "gyro_y",
          "xref": "x",
          "y": "gyro_z",
          "yref": "y"
         },
         {
          "font": {
           "color": "#FFFFFF"
          },
          "showarrow": false,
          "text": "",
          "x": "gyro_z",
          "xref": "x",
          "y": "gyro_z",
          "yref": "y"
         },
         {
          "font": {
           "color": "#FFFFFF"
          },
          "showarrow": false,
          "text": "",
          "x": "second",
          "xref": "x",
          "y": "gyro_z",
          "yref": "y"
         },
         {
          "font": {
           "color": "#FFFFFF"
          },
          "showarrow": false,
          "text": "",
          "x": "Speed",
          "xref": "x",
          "y": "gyro_z",
          "yref": "y"
         },
         {
          "font": {
           "color": "#FFFFFF"
          },
          "showarrow": false,
          "text": "-0.0147",
          "x": "Accuracy",
          "xref": "x",
          "y": "second",
          "yref": "y"
         },
         {
          "font": {
           "color": "#FFFFFF"
          },
          "showarrow": false,
          "text": "-0.01101",
          "x": "Bearing",
          "xref": "x",
          "y": "second",
          "yref": "y"
         },
         {
          "font": {
           "color": "#FFFFFF"
          },
          "showarrow": false,
          "text": "0.01929",
          "x": "acceleration_x",
          "xref": "x",
          "y": "second",
          "yref": "y"
         },
         {
          "font": {
           "color": "#FFFFFF"
          },
          "showarrow": false,
          "text": "-0.02584",
          "x": "acceleration_y",
          "xref": "x",
          "y": "second",
          "yref": "y"
         },
         {
          "font": {
           "color": "#FFFFFF"
          },
          "showarrow": false,
          "text": "0.00909",
          "x": "acceleration_z",
          "xref": "x",
          "y": "second",
          "yref": "y"
         },
         {
          "font": {
           "color": "#FFFFFF"
          },
          "showarrow": false,
          "text": "0.00523",
          "x": "gyro_x",
          "xref": "x",
          "y": "second",
          "yref": "y"
         },
         {
          "font": {
           "color": "#FFFFFF"
          },
          "showarrow": false,
          "text": "0.00821",
          "x": "gyro_y",
          "xref": "x",
          "y": "second",
          "yref": "y"
         },
         {
          "font": {
           "color": "#FFFFFF"
          },
          "showarrow": false,
          "text": "0.00407",
          "x": "gyro_z",
          "xref": "x",
          "y": "second",
          "yref": "y"
         },
         {
          "font": {
           "color": "#FFFFFF"
          },
          "showarrow": false,
          "text": "",
          "x": "second",
          "xref": "x",
          "y": "second",
          "yref": "y"
         },
         {
          "font": {
           "color": "#FFFFFF"
          },
          "showarrow": false,
          "text": "",
          "x": "Speed",
          "xref": "x",
          "y": "second",
          "yref": "y"
         },
         {
          "font": {
           "color": "#FFFFFF"
          },
          "showarrow": false,
          "text": "-0.157",
          "x": "Accuracy",
          "xref": "x",
          "y": "Speed",
          "yref": "y"
         },
         {
          "font": {
           "color": "#FFFFFF"
          },
          "showarrow": false,
          "text": "0.10753",
          "x": "Bearing",
          "xref": "x",
          "y": "Speed",
          "yref": "y"
         },
         {
          "font": {
           "color": "#FFFFFF"
          },
          "showarrow": false,
          "text": "-0.01005",
          "x": "acceleration_x",
          "xref": "x",
          "y": "Speed",
          "yref": "y"
         },
         {
          "font": {
           "color": "#FFFFFF"
          },
          "showarrow": false,
          "text": "-0.30135",
          "x": "acceleration_y",
          "xref": "x",
          "y": "Speed",
          "yref": "y"
         },
         {
          "font": {
           "color": "#FFFFFF"
          },
          "showarrow": false,
          "text": "-0.07343",
          "x": "acceleration_z",
          "xref": "x",
          "y": "Speed",
          "yref": "y"
         },
         {
          "font": {
           "color": "#FFFFFF"
          },
          "showarrow": false,
          "text": "-0.00792",
          "x": "gyro_x",
          "xref": "x",
          "y": "Speed",
          "yref": "y"
         },
         {
          "font": {
           "color": "#FFFFFF"
          },
          "showarrow": false,
          "text": "0.00617",
          "x": "gyro_y",
          "xref": "x",
          "y": "Speed",
          "yref": "y"
         },
         {
          "font": {
           "color": "#FFFFFF"
          },
          "showarrow": false,
          "text": "0.00206",
          "x": "gyro_z",
          "xref": "x",
          "y": "Speed",
          "yref": "y"
         },
         {
          "font": {
           "color": "#FFFFFF"
          },
          "showarrow": false,
          "text": "0.129",
          "x": "second",
          "xref": "x",
          "y": "Speed",
          "yref": "y"
         },
         {
          "font": {
           "color": "#FFFFFF"
          },
          "showarrow": false,
          "text": "",
          "x": "Speed",
          "xref": "x",
          "y": "Speed",
          "yref": "y"
         }
        ],
        "height": 1000,
        "template": {
         "data": {
          "bar": [
           {
            "error_x": {
             "color": "#2a3f5f"
            },
            "error_y": {
             "color": "#2a3f5f"
            },
            "marker": {
             "line": {
              "color": "white",
              "width": 0.5
             },
             "pattern": {
              "fillmode": "overlay",
              "size": 10,
              "solidity": 0.2
             }
            },
            "type": "bar"
           }
          ],
          "barpolar": [
           {
            "marker": {
             "line": {
              "color": "white",
              "width": 0.5
             },
             "pattern": {
              "fillmode": "overlay",
              "size": 10,
              "solidity": 0.2
             }
            },
            "type": "barpolar"
           }
          ],
          "carpet": [
           {
            "aaxis": {
             "endlinecolor": "#2a3f5f",
             "gridcolor": "#C8D4E3",
             "linecolor": "#C8D4E3",
             "minorgridcolor": "#C8D4E3",
             "startlinecolor": "#2a3f5f"
            },
            "baxis": {
             "endlinecolor": "#2a3f5f",
             "gridcolor": "#C8D4E3",
             "linecolor": "#C8D4E3",
             "minorgridcolor": "#C8D4E3",
             "startlinecolor": "#2a3f5f"
            },
            "type": "carpet"
           }
          ],
          "choropleth": [
           {
            "colorbar": {
             "outlinewidth": 0,
             "ticks": ""
            },
            "type": "choropleth"
           }
          ],
          "contour": [
           {
            "colorbar": {
             "outlinewidth": 0,
             "ticks": ""
            },
            "colorscale": [
             [
              0,
              "#0d0887"
             ],
             [
              0.1111111111111111,
              "#46039f"
             ],
             [
              0.2222222222222222,
              "#7201a8"
             ],
             [
              0.3333333333333333,
              "#9c179e"
             ],
             [
              0.4444444444444444,
              "#bd3786"
             ],
             [
              0.5555555555555556,
              "#d8576b"
             ],
             [
              0.6666666666666666,
              "#ed7953"
             ],
             [
              0.7777777777777778,
              "#fb9f3a"
             ],
             [
              0.8888888888888888,
              "#fdca26"
             ],
             [
              1,
              "#f0f921"
             ]
            ],
            "type": "contour"
           }
          ],
          "contourcarpet": [
           {
            "colorbar": {
             "outlinewidth": 0,
             "ticks": ""
            },
            "type": "contourcarpet"
           }
          ],
          "heatmap": [
           {
            "colorbar": {
             "outlinewidth": 0,
             "ticks": ""
            },
            "colorscale": [
             [
              0,
              "#0d0887"
             ],
             [
              0.1111111111111111,
              "#46039f"
             ],
             [
              0.2222222222222222,
              "#7201a8"
             ],
             [
              0.3333333333333333,
              "#9c179e"
             ],
             [
              0.4444444444444444,
              "#bd3786"
             ],
             [
              0.5555555555555556,
              "#d8576b"
             ],
             [
              0.6666666666666666,
              "#ed7953"
             ],
             [
              0.7777777777777778,
              "#fb9f3a"
             ],
             [
              0.8888888888888888,
              "#fdca26"
             ],
             [
              1,
              "#f0f921"
             ]
            ],
            "type": "heatmap"
           }
          ],
          "heatmapgl": [
           {
            "colorbar": {
             "outlinewidth": 0,
             "ticks": ""
            },
            "colorscale": [
             [
              0,
              "#0d0887"
             ],
             [
              0.1111111111111111,
              "#46039f"
             ],
             [
              0.2222222222222222,
              "#7201a8"
             ],
             [
              0.3333333333333333,
              "#9c179e"
             ],
             [
              0.4444444444444444,
              "#bd3786"
             ],
             [
              0.5555555555555556,
              "#d8576b"
             ],
             [
              0.6666666666666666,
              "#ed7953"
             ],
             [
              0.7777777777777778,
              "#fb9f3a"
             ],
             [
              0.8888888888888888,
              "#fdca26"
             ],
             [
              1,
              "#f0f921"
             ]
            ],
            "type": "heatmapgl"
           }
          ],
          "histogram": [
           {
            "marker": {
             "pattern": {
              "fillmode": "overlay",
              "size": 10,
              "solidity": 0.2
             }
            },
            "type": "histogram"
           }
          ],
          "histogram2d": [
           {
            "colorbar": {
             "outlinewidth": 0,
             "ticks": ""
            },
            "colorscale": [
             [
              0,
              "#0d0887"
             ],
             [
              0.1111111111111111,
              "#46039f"
             ],
             [
              0.2222222222222222,
              "#7201a8"
             ],
             [
              0.3333333333333333,
              "#9c179e"
             ],
             [
              0.4444444444444444,
              "#bd3786"
             ],
             [
              0.5555555555555556,
              "#d8576b"
             ],
             [
              0.6666666666666666,
              "#ed7953"
             ],
             [
              0.7777777777777778,
              "#fb9f3a"
             ],
             [
              0.8888888888888888,
              "#fdca26"
             ],
             [
              1,
              "#f0f921"
             ]
            ],
            "type": "histogram2d"
           }
          ],
          "histogram2dcontour": [
           {
            "colorbar": {
             "outlinewidth": 0,
             "ticks": ""
            },
            "colorscale": [
             [
              0,
              "#0d0887"
             ],
             [
              0.1111111111111111,
              "#46039f"
             ],
             [
              0.2222222222222222,
              "#7201a8"
             ],
             [
              0.3333333333333333,
              "#9c179e"
             ],
             [
              0.4444444444444444,
              "#bd3786"
             ],
             [
              0.5555555555555556,
              "#d8576b"
             ],
             [
              0.6666666666666666,
              "#ed7953"
             ],
             [
              0.7777777777777778,
              "#fb9f3a"
             ],
             [
              0.8888888888888888,
              "#fdca26"
             ],
             [
              1,
              "#f0f921"
             ]
            ],
            "type": "histogram2dcontour"
           }
          ],
          "mesh3d": [
           {
            "colorbar": {
             "outlinewidth": 0,
             "ticks": ""
            },
            "type": "mesh3d"
           }
          ],
          "parcoords": [
           {
            "line": {
             "colorbar": {
              "outlinewidth": 0,
              "ticks": ""
             }
            },
            "type": "parcoords"
           }
          ],
          "pie": [
           {
            "automargin": true,
            "type": "pie"
           }
          ],
          "scatter": [
           {
            "marker": {
             "colorbar": {
              "outlinewidth": 0,
              "ticks": ""
             }
            },
            "type": "scatter"
           }
          ],
          "scatter3d": [
           {
            "line": {
             "colorbar": {
              "outlinewidth": 0,
              "ticks": ""
             }
            },
            "marker": {
             "colorbar": {
              "outlinewidth": 0,
              "ticks": ""
             }
            },
            "type": "scatter3d"
           }
          ],
          "scattercarpet": [
           {
            "marker": {
             "colorbar": {
              "outlinewidth": 0,
              "ticks": ""
             }
            },
            "type": "scattercarpet"
           }
          ],
          "scattergeo": [
           {
            "marker": {
             "colorbar": {
              "outlinewidth": 0,
              "ticks": ""
             }
            },
            "type": "scattergeo"
           }
          ],
          "scattergl": [
           {
            "marker": {
             "colorbar": {
              "outlinewidth": 0,
              "ticks": ""
             }
            },
            "type": "scattergl"
           }
          ],
          "scattermapbox": [
           {
            "marker": {
             "colorbar": {
              "outlinewidth": 0,
              "ticks": ""
             }
            },
            "type": "scattermapbox"
           }
          ],
          "scatterpolar": [
           {
            "marker": {
             "colorbar": {
              "outlinewidth": 0,
              "ticks": ""
             }
            },
            "type": "scatterpolar"
           }
          ],
          "scatterpolargl": [
           {
            "marker": {
             "colorbar": {
              "outlinewidth": 0,
              "ticks": ""
             }
            },
            "type": "scatterpolargl"
           }
          ],
          "scatterternary": [
           {
            "marker": {
             "colorbar": {
              "outlinewidth": 0,
              "ticks": ""
             }
            },
            "type": "scatterternary"
           }
          ],
          "surface": [
           {
            "colorbar": {
             "outlinewidth": 0,
             "ticks": ""
            },
            "colorscale": [
             [
              0,
              "#0d0887"
             ],
             [
              0.1111111111111111,
              "#46039f"
             ],
             [
              0.2222222222222222,
              "#7201a8"
             ],
             [
              0.3333333333333333,
              "#9c179e"
             ],
             [
              0.4444444444444444,
              "#bd3786"
             ],
             [
              0.5555555555555556,
              "#d8576b"
             ],
             [
              0.6666666666666666,
              "#ed7953"
             ],
             [
              0.7777777777777778,
              "#fb9f3a"
             ],
             [
              0.8888888888888888,
              "#fdca26"
             ],
             [
              1,
              "#f0f921"
             ]
            ],
            "type": "surface"
           }
          ],
          "table": [
           {
            "cells": {
             "fill": {
              "color": "#EBF0F8"
             },
             "line": {
              "color": "white"
             }
            },
            "header": {
             "fill": {
              "color": "#C8D4E3"
             },
             "line": {
              "color": "white"
             }
            },
            "type": "table"
           }
          ]
         },
         "layout": {
          "annotationdefaults": {
           "arrowcolor": "#2a3f5f",
           "arrowhead": 0,
           "arrowwidth": 1
          },
          "autotypenumbers": "strict",
          "coloraxis": {
           "colorbar": {
            "outlinewidth": 0,
            "ticks": ""
           }
          },
          "colorscale": {
           "diverging": [
            [
             0,
             "#8e0152"
            ],
            [
             0.1,
             "#c51b7d"
            ],
            [
             0.2,
             "#de77ae"
            ],
            [
             0.3,
             "#f1b6da"
            ],
            [
             0.4,
             "#fde0ef"
            ],
            [
             0.5,
             "#f7f7f7"
            ],
            [
             0.6,
             "#e6f5d0"
            ],
            [
             0.7,
             "#b8e186"
            ],
            [
             0.8,
             "#7fbc41"
            ],
            [
             0.9,
             "#4d9221"
            ],
            [
             1,
             "#276419"
            ]
           ],
           "sequential": [
            [
             0,
             "#0d0887"
            ],
            [
             0.1111111111111111,
             "#46039f"
            ],
            [
             0.2222222222222222,
             "#7201a8"
            ],
            [
             0.3333333333333333,
             "#9c179e"
            ],
            [
             0.4444444444444444,
             "#bd3786"
            ],
            [
             0.5555555555555556,
             "#d8576b"
            ],
            [
             0.6666666666666666,
             "#ed7953"
            ],
            [
             0.7777777777777778,
             "#fb9f3a"
            ],
            [
             0.8888888888888888,
             "#fdca26"
            ],
            [
             1,
             "#f0f921"
            ]
           ],
           "sequentialminus": [
            [
             0,
             "#0d0887"
            ],
            [
             0.1111111111111111,
             "#46039f"
            ],
            [
             0.2222222222222222,
             "#7201a8"
            ],
            [
             0.3333333333333333,
             "#9c179e"
            ],
            [
             0.4444444444444444,
             "#bd3786"
            ],
            [
             0.5555555555555556,
             "#d8576b"
            ],
            [
             0.6666666666666666,
             "#ed7953"
            ],
            [
             0.7777777777777778,
             "#fb9f3a"
            ],
            [
             0.8888888888888888,
             "#fdca26"
            ],
            [
             1,
             "#f0f921"
            ]
           ]
          },
          "colorway": [
           "#636efa",
           "#EF553B",
           "#00cc96",
           "#ab63fa",
           "#FFA15A",
           "#19d3f3",
           "#FF6692",
           "#B6E880",
           "#FF97FF",
           "#FECB52"
          ],
          "font": {
           "color": "#2a3f5f"
          },
          "geo": {
           "bgcolor": "white",
           "lakecolor": "white",
           "landcolor": "white",
           "showlakes": true,
           "showland": true,
           "subunitcolor": "#C8D4E3"
          },
          "hoverlabel": {
           "align": "left"
          },
          "hovermode": "closest",
          "mapbox": {
           "style": "light"
          },
          "paper_bgcolor": "white",
          "plot_bgcolor": "white",
          "polar": {
           "angularaxis": {
            "gridcolor": "#EBF0F8",
            "linecolor": "#EBF0F8",
            "ticks": ""
           },
           "bgcolor": "white",
           "radialaxis": {
            "gridcolor": "#EBF0F8",
            "linecolor": "#EBF0F8",
            "ticks": ""
           }
          },
          "scene": {
           "xaxis": {
            "backgroundcolor": "white",
            "gridcolor": "#DFE8F3",
            "gridwidth": 2,
            "linecolor": "#EBF0F8",
            "showbackground": true,
            "ticks": "",
            "zerolinecolor": "#EBF0F8"
           },
           "yaxis": {
            "backgroundcolor": "white",
            "gridcolor": "#DFE8F3",
            "gridwidth": 2,
            "linecolor": "#EBF0F8",
            "showbackground": true,
            "ticks": "",
            "zerolinecolor": "#EBF0F8"
           },
           "zaxis": {
            "backgroundcolor": "white",
            "gridcolor": "#DFE8F3",
            "gridwidth": 2,
            "linecolor": "#EBF0F8",
            "showbackground": true,
            "ticks": "",
            "zerolinecolor": "#EBF0F8"
           }
          },
          "shapedefaults": {
           "line": {
            "color": "#2a3f5f"
           }
          },
          "ternary": {
           "aaxis": {
            "gridcolor": "#DFE8F3",
            "linecolor": "#A2B1C6",
            "ticks": ""
           },
           "baxis": {
            "gridcolor": "#DFE8F3",
            "linecolor": "#A2B1C6",
            "ticks": ""
           },
           "bgcolor": "white",
           "caxis": {
            "gridcolor": "#DFE8F3",
            "linecolor": "#A2B1C6",
            "ticks": ""
           }
          },
          "title": {
           "x": 0.05
          },
          "xaxis": {
           "automargin": true,
           "gridcolor": "#EBF0F8",
           "linecolor": "#EBF0F8",
           "ticks": "",
           "title": {
            "standoff": 15
           },
           "zerolinecolor": "#EBF0F8",
           "zerolinewidth": 2
          },
          "yaxis": {
           "automargin": true,
           "gridcolor": "#EBF0F8",
           "linecolor": "#EBF0F8",
           "ticks": "",
           "title": {
            "standoff": 15
           },
           "zerolinecolor": "#EBF0F8",
           "zerolinewidth": 2
          }
         }
        },
        "title": {
         "font": {
          "size": 22
         },
         "text": "Correlation for Unsafe Trips",
         "x": 0.5
        },
        "width": 1000,
        "xaxis": {
         "dtick": 1,
         "gridcolor": "rgb(0, 0, 0)",
         "showgrid": false,
         "side": "bottom",
         "ticks": "",
         "zeroline": false
        },
        "yaxis": {
         "autorange": "reversed",
         "dtick": 1,
         "showgrid": false,
         "ticks": "",
         "ticksuffix": "  ",
         "zeroline": false
        }
       }
      }
     },
     "metadata": {},
     "output_type": "display_data"
    }
   ],
   "source": [
    "import plotly.io as pio\n",
    "import plotly.express as px\n",
    "import plotly.graph_objects as go\n",
    "import matplotlib.pyplot as plt\n",
    "import numpy as np\n",
    "import plotly.figure_factory as ff\n",
    "\n",
    "# unsafe data is all dangerous data\n",
    "unsafe10 = df[df['label']==1]\n",
    "unsafe10 = unsafe10[unsafe10['Accuracy']<=3]\n",
    "df2=unsafe10.drop(['label','bookingID'], axis=1)\n",
    "corr = df2.corr().round(5)\n",
    "mask = np.triu(np.ones_like(corr, dtype=bool))\n",
    "df_mask = corr.mask(mask)\n",
    "\n",
    "fig = ff.create_annotated_heatmap(z=df_mask.to_numpy(), \n",
    "                                  x=df_mask.columns.tolist(),\n",
    "                                  y=df_mask.columns.tolist(),\n",
    "                                  colorscale=px.colors.diverging.Tealrose,\n",
    "                                  hoverinfo=\"none\", #Shows hoverinfo for null values\n",
    "                                  showscale=True, ygap=1, xgap=1\n",
    "                                 )\n",
    "\n",
    "fig.update_xaxes(side=\"bottom\")\n",
    "\n",
    "fig.update_layout(\n",
    "    title_text='Correlation for Unsafe Trips', \n",
    "    title_x=0.5,\n",
    "    title_font_size=22,\n",
    "    width=1000, \n",
    "    height=1000,\n",
    "    xaxis_showgrid=False,\n",
    "    yaxis_showgrid=False,\n",
    "    xaxis_zeroline=False,\n",
    "    yaxis_zeroline=False,\n",
    "    yaxis_autorange='reversed',\n",
    "    template='plotly_white'\n",
    ")\n",
    "\n",
    "# NaN values are not handled automatically and are displayed in the figure\n",
    "# So we need to get rid of the text manually\n",
    "for i in range(len(fig.layout.annotations)):\n",
    "    if fig.layout.annotations[i].text == 'nan':\n",
    "        fig.layout.annotations[i].text = \"\"\n",
    "\n",
    "fig.show()"
   ]
  },
  {
   "cell_type": "markdown",
   "metadata": {},
   "source": [
    "This chart shows the correlation for dangerous trips. Like the chart for safe trips, the correlation between variable here is also quite low generally. Among all the correlation values, correlation between speed and second is the highest with a value of 0.129. While correlation between acceleration y and acceleration x is the lowest with correlation value of 0.00012. Among the variables which are negatively correlated, speed and acceleration y has the highest negative correlation value of -0.301. \n",
    "\n",
    "All in all, there are no variables that seem to be showing a significant correlational relationship."
   ]
  },
  {
   "cell_type": "markdown",
   "metadata": {},
   "source": [
    "## Line chart for speed, acceleration.\n",
    "This line chart is plotted with 1 bookingID. The bookingID is chose because it contains the highest mean speed out of all bookingIDs."
   ]
  },
  {
   "cell_type": "code",
   "execution_count": 31,
   "metadata": {},
   "outputs": [
    {
     "data": {
      "application/vnd.plotly.v1+json": {
       "config": {
        "plotlyServerURL": "https://plot.ly"
       },
       "data": [
        {
         "hovertemplate": "variable=Speed<br>second=%{x}<br>value=%{y}<extra></extra>",
         "legendgroup": "Speed",
         "line": {
          "color": "#636efa",
          "dash": "solid"
         },
         "marker": {
          "symbol": "circle"
         },
         "mode": "lines",
         "name": "Speed",
         "orientation": "v",
         "showlegend": true,
         "type": "scatter",
         "x": [
          0,
          1,
          4,
          5,
          8,
          10,
          11,
          12,
          13,
          17,
          22,
          23,
          25,
          26,
          27,
          28,
          36,
          38,
          41,
          43,
          44,
          46,
          49,
          50,
          52,
          53,
          54,
          56,
          57,
          58,
          60,
          62,
          63,
          65,
          67,
          69,
          70,
          71,
          72,
          74,
          76,
          78,
          82,
          90,
          91,
          92,
          97,
          98,
          101,
          102,
          106,
          108,
          109,
          115,
          118,
          119,
          121,
          123,
          124,
          125,
          127,
          128,
          129,
          130,
          131,
          132,
          133,
          135,
          137,
          140,
          142,
          143,
          146,
          148,
          150,
          151,
          153,
          154,
          155,
          158,
          159,
          160,
          167,
          170,
          171,
          172,
          175,
          177,
          179,
          182,
          183,
          185,
          186,
          187,
          189,
          195,
          201,
          203,
          213,
          214,
          215,
          218,
          219,
          221,
          229,
          233,
          236,
          241,
          242,
          243,
          244,
          245,
          246,
          248,
          250,
          257,
          259,
          260,
          265,
          268,
          270,
          272,
          273,
          274,
          276,
          278,
          282,
          284,
          285,
          287,
          289,
          290,
          291,
          297,
          298,
          301,
          302,
          303,
          304,
          305,
          306,
          307,
          312,
          313,
          316,
          319,
          321,
          324,
          327,
          329,
          330,
          332,
          335,
          339,
          341,
          342,
          343,
          344,
          346,
          348,
          349,
          350,
          354,
          355,
          360,
          361,
          368,
          371,
          372,
          374
         ],
         "xaxis": "x",
         "y": [
          29.247740000000004,
          29.467370000000003,
          29.914953000000004,
          30.29578,
          31.735804,
          32.54564,
          32.76125,
          32.890392,
          33.01874,
          34.455402,
          33.893105,
          33.619083,
          33.336967,
          33.195488,
          33.015564000000005,
          32.50513,
          31.002272,
          31.018974,
          30.940767,
          30.877165,
          30.826012,
          30.825972,
          30.785059000000004,
          30.58019,
          30.118027,
          29.561195,
          29.153059,
          28.32951,
          27.95951,
          27.71001,
          26.804014,
          25.818735,
          25.200785,
          23.975216,
          23.112316,
          22.329956,
          21.87923,
          21.997137,
          22.158941,
          23.056677,
          23.991936,
          24.082432,
          24.489542,
          25.881376,
          26.222971,
          26.560637,
          28.505558,
          29.443754,
          31.572882,
          24.160404,
          33.307995,
          33.549194,
          33.68078,
          30.969833,
          30.688807,
          31.288612,
          32.58076,
          33.68788,
          34.257874,
          34.57012,
          34.498203000000004,
          34.337906,
          34.10542,
          33.75591,
          33.445557,
          33.37122,
          33.528065000000005,
          33.237175,
          32.55123,
          31.601768,
          31.361958,
          31.539577,
          32.222396999999994,
          33.238953,
          34.04166,
          34.26527,
          34.328854,
          34.241127,
          34.210705,
          33.95997,
          33.858887,
          33.786022,
          32.27857,
          33.074535,
          32.989388,
          33.35555,
          34.3563,
          33.83755,
          33.36988,
          33.567840000000004,
          33.504940000000005,
          32.811516,
          32.42965,
          31.994831,
          31.6209,
          32.783688,
          31.854828,
          31.725006,
          31.704748,
          31.604134,
          31.69285,
          31.554853,
          31.711123,
          32.075253000000004,
          31.733257,
          31.687168,
          31.29783,
          30.744791,
          30.526844,
          30.253805,
          30.030205,
          29.663761,
          29.266771,
          28.590998,
          27.636090000000003,
          27.562273,
          28.617428000000004,
          28.5614,
          28.057623,
          28.411621000000004,
          28.366323,
          28.293581,
          28.210411,
          27.9646,
          27.747513,
          27.825459,
          28.221174,
          28.086222,
          28.029556,
          27.753845,
          27.687351,
          27.68593,
          27.605747,
          28.291555,
          28.414448,
          28.925028,
          29.011606,
          29.134024,
          29.30515,
          29.235813,
          29.034588,
          28.699903000000003,
          27.454844,
          27.030245,
          26.241642,
          26.103802,
          26.184273,
          25.193087,
          23.831266,
          23.358927,
          23.280003,
          23.522068,
          24.112835,
          25.578007,
          25.9691,
          26.03694,
          26.057894,
          26.071323,
          25.58489,
          25.55347,
          25.55446,
          25.376879,
          24.078606,
          23.777815,
          23.929989000000003,
          24.230106,
          26.37082,
          27.040092,
          27.144335,
          27.343456
         ],
         "yaxis": "y"
        },
        {
         "hovertemplate": "variable=acceleration_x<br>second=%{x}<br>value=%{y}<extra></extra>",
         "legendgroup": "acceleration_x",
         "line": {
          "color": "#EF553B",
          "dash": "solid"
         },
         "marker": {
          "symbol": "circle"
         },
         "mode": "lines",
         "name": "acceleration_x",
         "orientation": "v",
         "showlegend": true,
         "type": "scatter",
         "x": [
          0,
          1,
          4,
          5,
          8,
          10,
          11,
          12,
          13,
          17,
          22,
          23,
          25,
          26,
          27,
          28,
          36,
          38,
          41,
          43,
          44,
          46,
          49,
          50,
          52,
          53,
          54,
          56,
          57,
          58,
          60,
          62,
          63,
          65,
          67,
          69,
          70,
          71,
          72,
          74,
          76,
          78,
          82,
          90,
          91,
          92,
          97,
          98,
          101,
          102,
          106,
          108,
          109,
          115,
          118,
          119,
          121,
          123,
          124,
          125,
          127,
          128,
          129,
          130,
          131,
          132,
          133,
          135,
          137,
          140,
          142,
          143,
          146,
          148,
          150,
          151,
          153,
          154,
          155,
          158,
          159,
          160,
          167,
          170,
          171,
          172,
          175,
          177,
          179,
          182,
          183,
          185,
          186,
          187,
          189,
          195,
          201,
          203,
          213,
          214,
          215,
          218,
          219,
          221,
          229,
          233,
          236,
          241,
          242,
          243,
          244,
          245,
          246,
          248,
          250,
          257,
          259,
          260,
          265,
          268,
          270,
          272,
          273,
          274,
          276,
          278,
          282,
          284,
          285,
          287,
          289,
          290,
          291,
          297,
          298,
          301,
          302,
          303,
          304,
          305,
          306,
          307,
          312,
          313,
          316,
          319,
          321,
          324,
          327,
          329,
          330,
          332,
          335,
          339,
          341,
          342,
          343,
          344,
          346,
          348,
          349,
          350,
          354,
          355,
          360,
          361,
          368,
          371,
          372,
          374
         ],
         "xaxis": "x",
         "y": [
          2.1094258,
          1.1711477,
          2.6271095,
          3.807403,
          3.6546245,
          3.8886144,
          3.2095616,
          2.3671088,
          2.3938859,
          3.6180027,
          2.394652,
          3.2158246,
          2.6491267999999994,
          3.3605685,
          3.2155468,
          3.13899,
          1.6533687,
          3.525845,
          4.400045,
          3.1218572,
          5.003355,
          4.03060985,
          3.0578647,
          2.5105023,
          0.53243214,
          0.35611355,
          0.19729179,
          0.09096051,
          -0.14517482,
          0.39246714,
          1.1985373,
          3.1576169,
          2.9620202,
          3.3643801,
          4.4745045,
          4.7189717,
          4.5041833,
          5.006046,
          3.9270844,
          4.1417966,
          3.0004137,
          2.5045457000000004,
          0.90492207,
          3.6044993,
          3.3265996,
          3.0101628,
          3.5531006,
          3.0043306,
          2.9350805,
          3.9479907,
          1.9998192,
          1.9452026,
          3.0017638,
          2.5794842,
          3.5743036,
          4.810459,
          4.4637403,
          5.456184400000001,
          3.8024518,
          2.7124200000000003,
          3.4951706,
          3.1163218,
          2.616422,
          3.5584064,
          3.7255788,
          2.9124792,
          2.5773103,
          3.0307145,
          2.628192,
          3.1569178,
          3.8044822,
          3.787991,
          3.5448453,
          2.5309203,
          2.8669417,
          4.310703,
          2.3737361,
          3.8419757,
          3.4531474,
          3.4236796000000003,
          3.080581,
          3.2822974,
          3.3247416,
          0.7718332,
          -0.04153461,
          1.1931648,
          1.2607962,
          3.2181613,
          2.668194,
          0.5562784000000001,
          3.5963686000000004,
          4.38364,
          4.7820444,
          5.439655,
          5.571853,
          4.918131,
          1.3765607,
          1.4921049,
          5.0240884,
          4.2760158,
          4.2427645,
          3.4707498999999995,
          3.5155308,
          4.113804,
          2.1805334,
          3.1072524,
          3.924183,
          1.9768828,
          2.4054258,
          3.872468,
          3.529264,
          2.852787,
          2.1109676,
          1.0925412,
          1.4202788,
          1.0360094000000002,
          3.0190501,
          1.9127948,
          1.8178407,
          2.4599082,
          2.4674833,
          3.0303411,
          2.741706,
          3.584886,
          3.3818576,
          2.8634844,
          3.447593,
          3.0335684,
          3.154265,
          4.0185146000000005,
          4.0083246,
          3.661462,
          4.231262999999999,
          3.2460492000000003,
          3.1576648,
          1.1040716999999998,
          2.4236314,
          3.4641225,
          2.8521166,
          3.735711,
          2.2836087000000003,
          2.9912295,
          3.0391805,
          2.832848,
          2.95433,
          3.1206887,
          3.8588784,
          3.3064404,
          3.5733173,
          2.4735742000000003,
          3.3711126000000005,
          2.9937863,
          3.3390207000000003,
          3.7244775,
          3.4881508,
          4.2056837,
          4.4510508,
          3.0819982999999995,
          3.2833316,
          2.8807514,
          3.3609227999999995,
          2.676076,
          2.1494856,
          3.3607793,
          4.1348915,
          3.5241404000000003,
          3.5834975,
          1.8344374,
          3.6670167,
          2.6034358
         ],
         "yaxis": "y"
        },
        {
         "hovertemplate": "variable=acceleration_y<br>second=%{x}<br>value=%{y}<extra></extra>",
         "legendgroup": "acceleration_y",
         "line": {
          "color": "#00cc96",
          "dash": "solid"
         },
         "marker": {
          "symbol": "circle"
         },
         "mode": "lines",
         "name": "acceleration_y",
         "orientation": "v",
         "showlegend": true,
         "type": "scatter",
         "x": [
          0,
          1,
          4,
          5,
          8,
          10,
          11,
          12,
          13,
          17,
          22,
          23,
          25,
          26,
          27,
          28,
          36,
          38,
          41,
          43,
          44,
          46,
          49,
          50,
          52,
          53,
          54,
          56,
          57,
          58,
          60,
          62,
          63,
          65,
          67,
          69,
          70,
          71,
          72,
          74,
          76,
          78,
          82,
          90,
          91,
          92,
          97,
          98,
          101,
          102,
          106,
          108,
          109,
          115,
          118,
          119,
          121,
          123,
          124,
          125,
          127,
          128,
          129,
          130,
          131,
          132,
          133,
          135,
          137,
          140,
          142,
          143,
          146,
          148,
          150,
          151,
          153,
          154,
          155,
          158,
          159,
          160,
          167,
          170,
          171,
          172,
          175,
          177,
          179,
          182,
          183,
          185,
          186,
          187,
          189,
          195,
          201,
          203,
          213,
          214,
          215,
          218,
          219,
          221,
          229,
          233,
          236,
          241,
          242,
          243,
          244,
          245,
          246,
          248,
          250,
          257,
          259,
          260,
          265,
          268,
          270,
          272,
          273,
          274,
          276,
          278,
          282,
          284,
          285,
          287,
          289,
          290,
          291,
          297,
          298,
          301,
          302,
          303,
          304,
          305,
          306,
          307,
          312,
          313,
          316,
          319,
          321,
          324,
          327,
          329,
          330,
          332,
          335,
          339,
          341,
          342,
          343,
          344,
          346,
          348,
          349,
          350,
          354,
          355,
          360,
          361,
          368,
          371,
          372,
          374
         ],
         "xaxis": "x",
         "y": [
          8.918402,
          9.547157,
          7.785848,
          9.648509,
          8.231744,
          9.7607,
          10.095506,
          8.686919999999999,
          8.840562,
          9.160359,
          8.560832000000001,
          9.659704,
          8.075642,
          9.063826,
          9.2587805,
          10.783724,
          9.023334,
          8.799408999999999,
          8.622333999999999,
          8.445259,
          9.53011,
          9.701382,
          9.453869,
          9.147249,
          9.596956,
          9.373808,
          10.810481,
          11.083153,
          10.763297,
          10.089242,
          10.842956,
          8.793424,
          8.706246,
          9.008844,
          9.895945,
          8.321622999999999,
          8.223614,
          8.277828,
          7.732094,
          8.848031,
          9.133382,
          9.214736,
          9.853854,
          9.743778,
          9.581959,
          9.335279,
          10.075672,
          8.983360000000001,
          8.466806,
          8.305246,
          10.280473,
          9.3800125,
          10.38146,
          9.610058,
          7.146126700000001,
          7.908584599999999,
          9.148216,
          7.900003999999999,
          7.309229400000001,
          8.059467,
          9.723705,
          9.409903,
          9.499273,
          10.027587,
          9.90397,
          9.366233,
          8.783579,
          8.963365,
          9.856086,
          7.311020399999999,
          7.261183,
          8.027778,
          8.911908,
          9.423933,
          8.601668,
          8.834719,
          8.464383999999999,
          9.855415,
          9.394742,
          8.530252,
          8.961163,
          8.595825999999999,
          9.071621,
          9.108654,
          10.107514,
          9.046185,
          5.937132,
          8.753067,
          11.519346,
          5.852243,
          9.850091,
          8.778771,
          8.091607000000002,
          8.936971,
          8.325138,
          10.956117,
          10.463063,
          8.279447,
          8.110866,
          7.362649,
          6.9590917,
          10.781522,
          8.866676,
          8.108692,
          8.350401,
          9.043148,
          8.939834,
          7.9578667,
          8.910442999999999,
          8.949794,
          10.403266,
          8.561817999999999,
          8.762376,
          9.39956,
          9.3537445,
          10.73199,
          8.271182000000001,
          8.918814,
          12.322639,
          11.904478,
          8.886511,
          9.745685,
          10.124993,
          8.437177,
          8.404864,
          8.448516,
          8.513628,
          8.28706,
          11.133114,
          8.533088000000001,
          9.005589,
          8.897026,
          9.692724,
          8.851919,
          10.194664,
          9.394014,
          9.184187,
          9.359011,
          9.910443,
          12.071871,
          9.946778,
          9.0654335,
          8.688213000000001,
          8.908318,
          9.054544,
          9.445116,
          8.840648,
          9.222236,
          8.969082,
          9.425943,
          9.159746,
          9.505249,
          8.502807,
          9.462747,
          9.937584,
          8.238055000000001,
          11.462595,
          9.153388,
          8.728944,
          8.655557,
          9.054929,
          9.761055,
          8.692063000000001,
          9.177549,
          8.277846,
          9.507058,
          9.292749,
          9.576988,
          9.909658,
          9.890304
         ],
         "yaxis": "y"
        },
        {
         "hovertemplate": "variable=acceleration_z<br>second=%{x}<br>value=%{y}<extra></extra>",
         "legendgroup": "acceleration_z",
         "line": {
          "color": "#ab63fa",
          "dash": "solid"
         },
         "marker": {
          "symbol": "circle"
         },
         "mode": "lines",
         "name": "acceleration_z",
         "orientation": "v",
         "showlegend": true,
         "type": "scatter",
         "x": [
          0,
          1,
          4,
          5,
          8,
          10,
          11,
          12,
          13,
          17,
          22,
          23,
          25,
          26,
          27,
          28,
          36,
          38,
          41,
          43,
          44,
          46,
          49,
          50,
          52,
          53,
          54,
          56,
          57,
          58,
          60,
          62,
          63,
          65,
          67,
          69,
          70,
          71,
          72,
          74,
          76,
          78,
          82,
          90,
          91,
          92,
          97,
          98,
          101,
          102,
          106,
          108,
          109,
          115,
          118,
          119,
          121,
          123,
          124,
          125,
          127,
          128,
          129,
          130,
          131,
          132,
          133,
          135,
          137,
          140,
          142,
          143,
          146,
          148,
          150,
          151,
          153,
          154,
          155,
          158,
          159,
          160,
          167,
          170,
          171,
          172,
          175,
          177,
          179,
          182,
          183,
          185,
          186,
          187,
          189,
          195,
          201,
          203,
          213,
          214,
          215,
          218,
          219,
          221,
          229,
          233,
          236,
          241,
          242,
          243,
          244,
          245,
          246,
          248,
          250,
          257,
          259,
          260,
          265,
          268,
          270,
          272,
          273,
          274,
          276,
          278,
          282,
          284,
          285,
          287,
          289,
          290,
          291,
          297,
          298,
          301,
          302,
          303,
          304,
          305,
          306,
          307,
          312,
          313,
          316,
          319,
          321,
          324,
          327,
          329,
          330,
          332,
          335,
          339,
          341,
          342,
          343,
          344,
          346,
          348,
          349,
          350,
          354,
          355,
          360,
          361,
          368,
          371,
          372,
          374
         ],
         "xaxis": "x",
         "y": [
          1.8683679,
          0.7409574999999999,
          1.9379338,
          1.7520384999999998,
          1.2115043,
          0.9567517,
          2.117518,
          -0.20474255,
          0.93625736,
          0.41459912,
          0.987704,
          1.7361601999999998,
          0.30647695,
          0.85645384,
          2.78053,
          3.402582,
          1.1070502,
          1.996314,
          1.0962954,
          2.4807662999999995,
          0.49663404,
          0.80095625,
          1.1479431,
          0.52388966,
          0.7758937300000001,
          1.0278978,
          0.8105522,
          0.72612303,
          2.5947783,
          1.7236911,
          0.7484562,
          0.7756447,
          1.1756296,
          1.6312846,
          1.6044025,
          1.5775204,
          1.2729780000000002,
          1.5225208,
          1.688075,
          0.011415554,
          1.1649516000000002,
          1.8103708,
          0.87884444,
          0.22554338,
          -0.16447207,
          0.6763906999999999,
          0.10337205,
          0.12929647,
          0.9529497,
          1.3144838,
          2.405263,
          1.8619324,
          0.6740923000000001,
          0.8655709,
          0.75061095,
          0.6905644000000001,
          1.5895392,
          1.1546661,
          1.5437813,
          1.862641,
          1.4322784,
          1.3297588,
          1.7993575000000002,
          0.07113652,
          1.87647,
          0.68546957,
          1.1409425,
          1.7061847,
          2.125601,
          1.6691321,
          0.54057246,
          1.599365,
          0.43978614,
          0.9168739,
          1.3626933,
          1.635441,
          2.2353225,
          1.2779675,
          2.0150464,
          1.1960473,
          1.4240233,
          1.4694173,
          0.90888685,
          1.005536,
          0.22011332,
          0.5132306999999999,
          0.29892087,
          0.9475963,
          0.7870507,
          1.589702,
          1.5183835,
          1.2203821,
          -0.2714067,
          2.3636994,
          1.720751,
          0.8433335999999999,
          1.0703518,
          1.631227,
          0.7737677,
          -0.2727665999999999,
          0.4127077,
          1.098182,
          0.7700231,
          1.4141976,
          0.6003892,
          1.3583264,
          1.3114,
          1.1128441,
          1.4234870000000002,
          0.25051013,
          1.6355749,
          1.7712592,
          0.83887076,
          2.1147027,
          0.5359181,
          0.5564508,
          0.77897745,
          1.2449371,
          2.8274183,
          1.7854137,
          0.6182116,
          1.1781579,
          1.4535869,
          0.24632505,
          0.6075909,
          0.1613309,
          0.3127689,
          1.5337353,
          1.4720701,
          0.7126485,
          0.8235191999999999,
          2.1091769,
          1.1124419,
          0.3469869,
          0.56044436,
          -0.32208717,
          0.7568359,
          0.07594407,
          0.72328836,
          0.2859826,
          0.52445465,
          -1.1161671999999998,
          0.9511014,
          2.2674623,
          2.3672335,
          1.37997,
          2.0644243,
          0.41404366,
          2.0048184,
          1.3805253999999998,
          1.1609676000000002,
          2.5004277000000004,
          -0.27299646,
          1.3735343,
          0.82157505,
          0.0137235639999999,
          -1.7487918999999998,
          1.1123268999999998,
          1.2990746000000002,
          1.6084343,
          1.3264549,
          1.2578177,
          1.9697194,
          2.5238526,
          0.38460454,
          1.2791262,
          0.9713468,
          0.80531365,
          0.6961285,
          1.1030278
         ],
         "yaxis": "y"
        }
       ],
       "layout": {
        "legend": {
         "title": {
          "text": "variable"
         },
         "tracegroupgap": 0
        },
        "margin": {
         "t": 60
        },
        "template": {
         "data": {
          "bar": [
           {
            "error_x": {
             "color": "#2a3f5f"
            },
            "error_y": {
             "color": "#2a3f5f"
            },
            "marker": {
             "line": {
              "color": "#E5ECF6",
              "width": 0.5
             },
             "pattern": {
              "fillmode": "overlay",
              "size": 10,
              "solidity": 0.2
             }
            },
            "type": "bar"
           }
          ],
          "barpolar": [
           {
            "marker": {
             "line": {
              "color": "#E5ECF6",
              "width": 0.5
             },
             "pattern": {
              "fillmode": "overlay",
              "size": 10,
              "solidity": 0.2
             }
            },
            "type": "barpolar"
           }
          ],
          "carpet": [
           {
            "aaxis": {
             "endlinecolor": "#2a3f5f",
             "gridcolor": "white",
             "linecolor": "white",
             "minorgridcolor": "white",
             "startlinecolor": "#2a3f5f"
            },
            "baxis": {
             "endlinecolor": "#2a3f5f",
             "gridcolor": "white",
             "linecolor": "white",
             "minorgridcolor": "white",
             "startlinecolor": "#2a3f5f"
            },
            "type": "carpet"
           }
          ],
          "choropleth": [
           {
            "colorbar": {
             "outlinewidth": 0,
             "ticks": ""
            },
            "type": "choropleth"
           }
          ],
          "contour": [
           {
            "colorbar": {
             "outlinewidth": 0,
             "ticks": ""
            },
            "colorscale": [
             [
              0,
              "#0d0887"
             ],
             [
              0.1111111111111111,
              "#46039f"
             ],
             [
              0.2222222222222222,
              "#7201a8"
             ],
             [
              0.3333333333333333,
              "#9c179e"
             ],
             [
              0.4444444444444444,
              "#bd3786"
             ],
             [
              0.5555555555555556,
              "#d8576b"
             ],
             [
              0.6666666666666666,
              "#ed7953"
             ],
             [
              0.7777777777777778,
              "#fb9f3a"
             ],
             [
              0.8888888888888888,
              "#fdca26"
             ],
             [
              1,
              "#f0f921"
             ]
            ],
            "type": "contour"
           }
          ],
          "contourcarpet": [
           {
            "colorbar": {
             "outlinewidth": 0,
             "ticks": ""
            },
            "type": "contourcarpet"
           }
          ],
          "heatmap": [
           {
            "colorbar": {
             "outlinewidth": 0,
             "ticks": ""
            },
            "colorscale": [
             [
              0,
              "#0d0887"
             ],
             [
              0.1111111111111111,
              "#46039f"
             ],
             [
              0.2222222222222222,
              "#7201a8"
             ],
             [
              0.3333333333333333,
              "#9c179e"
             ],
             [
              0.4444444444444444,
              "#bd3786"
             ],
             [
              0.5555555555555556,
              "#d8576b"
             ],
             [
              0.6666666666666666,
              "#ed7953"
             ],
             [
              0.7777777777777778,
              "#fb9f3a"
             ],
             [
              0.8888888888888888,
              "#fdca26"
             ],
             [
              1,
              "#f0f921"
             ]
            ],
            "type": "heatmap"
           }
          ],
          "heatmapgl": [
           {
            "colorbar": {
             "outlinewidth": 0,
             "ticks": ""
            },
            "colorscale": [
             [
              0,
              "#0d0887"
             ],
             [
              0.1111111111111111,
              "#46039f"
             ],
             [
              0.2222222222222222,
              "#7201a8"
             ],
             [
              0.3333333333333333,
              "#9c179e"
             ],
             [
              0.4444444444444444,
              "#bd3786"
             ],
             [
              0.5555555555555556,
              "#d8576b"
             ],
             [
              0.6666666666666666,
              "#ed7953"
             ],
             [
              0.7777777777777778,
              "#fb9f3a"
             ],
             [
              0.8888888888888888,
              "#fdca26"
             ],
             [
              1,
              "#f0f921"
             ]
            ],
            "type": "heatmapgl"
           }
          ],
          "histogram": [
           {
            "marker": {
             "pattern": {
              "fillmode": "overlay",
              "size": 10,
              "solidity": 0.2
             }
            },
            "type": "histogram"
           }
          ],
          "histogram2d": [
           {
            "colorbar": {
             "outlinewidth": 0,
             "ticks": ""
            },
            "colorscale": [
             [
              0,
              "#0d0887"
             ],
             [
              0.1111111111111111,
              "#46039f"
             ],
             [
              0.2222222222222222,
              "#7201a8"
             ],
             [
              0.3333333333333333,
              "#9c179e"
             ],
             [
              0.4444444444444444,
              "#bd3786"
             ],
             [
              0.5555555555555556,
              "#d8576b"
             ],
             [
              0.6666666666666666,
              "#ed7953"
             ],
             [
              0.7777777777777778,
              "#fb9f3a"
             ],
             [
              0.8888888888888888,
              "#fdca26"
             ],
             [
              1,
              "#f0f921"
             ]
            ],
            "type": "histogram2d"
           }
          ],
          "histogram2dcontour": [
           {
            "colorbar": {
             "outlinewidth": 0,
             "ticks": ""
            },
            "colorscale": [
             [
              0,
              "#0d0887"
             ],
             [
              0.1111111111111111,
              "#46039f"
             ],
             [
              0.2222222222222222,
              "#7201a8"
             ],
             [
              0.3333333333333333,
              "#9c179e"
             ],
             [
              0.4444444444444444,
              "#bd3786"
             ],
             [
              0.5555555555555556,
              "#d8576b"
             ],
             [
              0.6666666666666666,
              "#ed7953"
             ],
             [
              0.7777777777777778,
              "#fb9f3a"
             ],
             [
              0.8888888888888888,
              "#fdca26"
             ],
             [
              1,
              "#f0f921"
             ]
            ],
            "type": "histogram2dcontour"
           }
          ],
          "mesh3d": [
           {
            "colorbar": {
             "outlinewidth": 0,
             "ticks": ""
            },
            "type": "mesh3d"
           }
          ],
          "parcoords": [
           {
            "line": {
             "colorbar": {
              "outlinewidth": 0,
              "ticks": ""
             }
            },
            "type": "parcoords"
           }
          ],
          "pie": [
           {
            "automargin": true,
            "type": "pie"
           }
          ],
          "scatter": [
           {
            "marker": {
             "colorbar": {
              "outlinewidth": 0,
              "ticks": ""
             }
            },
            "type": "scatter"
           }
          ],
          "scatter3d": [
           {
            "line": {
             "colorbar": {
              "outlinewidth": 0,
              "ticks": ""
             }
            },
            "marker": {
             "colorbar": {
              "outlinewidth": 0,
              "ticks": ""
             }
            },
            "type": "scatter3d"
           }
          ],
          "scattercarpet": [
           {
            "marker": {
             "colorbar": {
              "outlinewidth": 0,
              "ticks": ""
             }
            },
            "type": "scattercarpet"
           }
          ],
          "scattergeo": [
           {
            "marker": {
             "colorbar": {
              "outlinewidth": 0,
              "ticks": ""
             }
            },
            "type": "scattergeo"
           }
          ],
          "scattergl": [
           {
            "marker": {
             "colorbar": {
              "outlinewidth": 0,
              "ticks": ""
             }
            },
            "type": "scattergl"
           }
          ],
          "scattermapbox": [
           {
            "marker": {
             "colorbar": {
              "outlinewidth": 0,
              "ticks": ""
             }
            },
            "type": "scattermapbox"
           }
          ],
          "scatterpolar": [
           {
            "marker": {
             "colorbar": {
              "outlinewidth": 0,
              "ticks": ""
             }
            },
            "type": "scatterpolar"
           }
          ],
          "scatterpolargl": [
           {
            "marker": {
             "colorbar": {
              "outlinewidth": 0,
              "ticks": ""
             }
            },
            "type": "scatterpolargl"
           }
          ],
          "scatterternary": [
           {
            "marker": {
             "colorbar": {
              "outlinewidth": 0,
              "ticks": ""
             }
            },
            "type": "scatterternary"
           }
          ],
          "surface": [
           {
            "colorbar": {
             "outlinewidth": 0,
             "ticks": ""
            },
            "colorscale": [
             [
              0,
              "#0d0887"
             ],
             [
              0.1111111111111111,
              "#46039f"
             ],
             [
              0.2222222222222222,
              "#7201a8"
             ],
             [
              0.3333333333333333,
              "#9c179e"
             ],
             [
              0.4444444444444444,
              "#bd3786"
             ],
             [
              0.5555555555555556,
              "#d8576b"
             ],
             [
              0.6666666666666666,
              "#ed7953"
             ],
             [
              0.7777777777777778,
              "#fb9f3a"
             ],
             [
              0.8888888888888888,
              "#fdca26"
             ],
             [
              1,
              "#f0f921"
             ]
            ],
            "type": "surface"
           }
          ],
          "table": [
           {
            "cells": {
             "fill": {
              "color": "#EBF0F8"
             },
             "line": {
              "color": "white"
             }
            },
            "header": {
             "fill": {
              "color": "#C8D4E3"
             },
             "line": {
              "color": "white"
             }
            },
            "type": "table"
           }
          ]
         },
         "layout": {
          "annotationdefaults": {
           "arrowcolor": "#2a3f5f",
           "arrowhead": 0,
           "arrowwidth": 1
          },
          "autotypenumbers": "strict",
          "coloraxis": {
           "colorbar": {
            "outlinewidth": 0,
            "ticks": ""
           }
          },
          "colorscale": {
           "diverging": [
            [
             0,
             "#8e0152"
            ],
            [
             0.1,
             "#c51b7d"
            ],
            [
             0.2,
             "#de77ae"
            ],
            [
             0.3,
             "#f1b6da"
            ],
            [
             0.4,
             "#fde0ef"
            ],
            [
             0.5,
             "#f7f7f7"
            ],
            [
             0.6,
             "#e6f5d0"
            ],
            [
             0.7,
             "#b8e186"
            ],
            [
             0.8,
             "#7fbc41"
            ],
            [
             0.9,
             "#4d9221"
            ],
            [
             1,
             "#276419"
            ]
           ],
           "sequential": [
            [
             0,
             "#0d0887"
            ],
            [
             0.1111111111111111,
             "#46039f"
            ],
            [
             0.2222222222222222,
             "#7201a8"
            ],
            [
             0.3333333333333333,
             "#9c179e"
            ],
            [
             0.4444444444444444,
             "#bd3786"
            ],
            [
             0.5555555555555556,
             "#d8576b"
            ],
            [
             0.6666666666666666,
             "#ed7953"
            ],
            [
             0.7777777777777778,
             "#fb9f3a"
            ],
            [
             0.8888888888888888,
             "#fdca26"
            ],
            [
             1,
             "#f0f921"
            ]
           ],
           "sequentialminus": [
            [
             0,
             "#0d0887"
            ],
            [
             0.1111111111111111,
             "#46039f"
            ],
            [
             0.2222222222222222,
             "#7201a8"
            ],
            [
             0.3333333333333333,
             "#9c179e"
            ],
            [
             0.4444444444444444,
             "#bd3786"
            ],
            [
             0.5555555555555556,
             "#d8576b"
            ],
            [
             0.6666666666666666,
             "#ed7953"
            ],
            [
             0.7777777777777778,
             "#fb9f3a"
            ],
            [
             0.8888888888888888,
             "#fdca26"
            ],
            [
             1,
             "#f0f921"
            ]
           ]
          },
          "colorway": [
           "#636efa",
           "#EF553B",
           "#00cc96",
           "#ab63fa",
           "#FFA15A",
           "#19d3f3",
           "#FF6692",
           "#B6E880",
           "#FF97FF",
           "#FECB52"
          ],
          "font": {
           "color": "#2a3f5f"
          },
          "geo": {
           "bgcolor": "white",
           "lakecolor": "white",
           "landcolor": "#E5ECF6",
           "showlakes": true,
           "showland": true,
           "subunitcolor": "white"
          },
          "hoverlabel": {
           "align": "left"
          },
          "hovermode": "closest",
          "mapbox": {
           "style": "light"
          },
          "paper_bgcolor": "white",
          "plot_bgcolor": "#E5ECF6",
          "polar": {
           "angularaxis": {
            "gridcolor": "white",
            "linecolor": "white",
            "ticks": ""
           },
           "bgcolor": "#E5ECF6",
           "radialaxis": {
            "gridcolor": "white",
            "linecolor": "white",
            "ticks": ""
           }
          },
          "scene": {
           "xaxis": {
            "backgroundcolor": "#E5ECF6",
            "gridcolor": "white",
            "gridwidth": 2,
            "linecolor": "white",
            "showbackground": true,
            "ticks": "",
            "zerolinecolor": "white"
           },
           "yaxis": {
            "backgroundcolor": "#E5ECF6",
            "gridcolor": "white",
            "gridwidth": 2,
            "linecolor": "white",
            "showbackground": true,
            "ticks": "",
            "zerolinecolor": "white"
           },
           "zaxis": {
            "backgroundcolor": "#E5ECF6",
            "gridcolor": "white",
            "gridwidth": 2,
            "linecolor": "white",
            "showbackground": true,
            "ticks": "",
            "zerolinecolor": "white"
           }
          },
          "shapedefaults": {
           "line": {
            "color": "#2a3f5f"
           }
          },
          "ternary": {
           "aaxis": {
            "gridcolor": "white",
            "linecolor": "white",
            "ticks": ""
           },
           "baxis": {
            "gridcolor": "white",
            "linecolor": "white",
            "ticks": ""
           },
           "bgcolor": "#E5ECF6",
           "caxis": {
            "gridcolor": "white",
            "linecolor": "white",
            "ticks": ""
           }
          },
          "title": {
           "x": 0.05
          },
          "xaxis": {
           "automargin": true,
           "gridcolor": "white",
           "linecolor": "white",
           "ticks": "",
           "title": {
            "standoff": 15
           },
           "zerolinecolor": "white",
           "zerolinewidth": 2
          },
          "yaxis": {
           "automargin": true,
           "gridcolor": "white",
           "linecolor": "white",
           "ticks": "",
           "title": {
            "standoff": 15
           },
           "zerolinecolor": "white",
           "zerolinewidth": 2
          }
         }
        },
        "xaxis": {
         "anchor": "y",
         "domain": [
          0,
          1
         ],
         "title": {
          "text": "second"
         }
        },
        "yaxis": {
         "anchor": "x",
         "domain": [
          0,
          1
         ],
         "title": {
          "text": "value"
         }
        }
       }
      }
     },
     "metadata": {},
     "output_type": "display_data"
    }
   ],
   "source": [
    "import pandas as pd\n",
    "import plotly.express as px\n",
    "grouped_df = df.groupby(\"bookingID\")\n",
    "\n",
    "mean_df = grouped_df.mean()\n",
    "mean_df = mean_df.reset_index()\n",
    "maxspeed = max(mean_df['Speed'])\n",
    "bookingid = mean_df[mean_df['Speed']==maxspeed]['bookingID'] # making a datfarame with bookingID = x\n",
    "bookingidx = df[df['bookingID']==int(bookingid)] # making a datfarame with bookingID = x\n",
    "bookingidx = bookingidx.sort_values(by=['second'])\n",
    "fig = px.line(bookingidx, x='second', y = ['Speed' , 'acceleration_x', 'acceleration_y', 'acceleration_z'])\n",
    "fig.show()"
   ]
  },
  {
   "cell_type": "markdown",
   "metadata": {},
   "source": [
    "This is a line chart that shows the changes in speed, acceleration_x, acceleration_y and acceleration_z against time. This is only plotted with one bookingID which is derived from finding the median out of all the average speed for all bookingIDs. This line chart shows that there is not much changes in acceleration when the speed is changing. For example, at around 100 seconds of the trip, there is a huge drop in the speed and acceleration in all axis decreased slightly. But in overall, the changes in speed did not have a huge impact in the changes in the acceleration. Acceleration_y has the biggest range out of all the acceleration. The acceleration in all axes do not change greatly according to each other. For example, at around 200 seconds, there is a decrease in the acceleration_y and acceleration_x also decreased."
   ]
  },
  {
   "cell_type": "markdown",
   "metadata": {},
   "source": [
    "## Violin plot for speed dangerous and safe trips"
   ]
  },
  {
   "cell_type": "code",
   "execution_count": 32,
   "metadata": {},
   "outputs": [
    {
     "data": {
      "image/png": "[encoded data removed]",
      "text/plain": [
       "<Figure size 1080x864 with 1 Axes>"
      ]
     },
     "metadata": {
      "needs_background": "light"
     },
     "output_type": "display_data"
    }
   ],
   "source": [
    "import seaborn as sns\n",
    "import matplotlib.pyplot as plt\n",
    "\n",
    "plt.figure(figsize=(15,12))\n",
    "#result is dataset with labels col merged\n",
    "ax=sns.violinplot(data=df, y='Speed', x='label')\n",
    "plt.title('Distribution of Speed values for Dangerous vs Safe Trips\\n', fontsize=20, fontweight='bold', fontname='Arial')\n",
    "plt.xlabel('Trip Type', fontsize=16, fontname='Arial')\n",
    "plt.ylabel('Speed (m/s)', fontsize=16, fontname='Arial')\n",
    "ax.set_xticklabels(['Safe','Dangerous'])\n",
    "plt.xticks(fontsize=12,fontname='Arial')\n",
    "plt.yticks(fontsize=12,fontname='Arial')\n",
    "plt.show()"
   ]
  },
  {
   "cell_type": "markdown",
   "metadata": {},
   "source": [
    "This is a violin plot of speed for safe and dangerous trips.\n",
    "This plot is done to visualize the distribution of speed for the different trip types. The interquartile range of speed for dangerous trips is around -18 to 51 m/s, which is bigger than the interquartile range of speed for safe trips which is around -18 to 42 m/s. The reason could be because dangerous trips might have taxis going in extreme speeds. As much as its dangerous to drive at extremely high speed it is as equally dangerous to drive too slowly. Hence, the median speed for safe trips which is around 19m/s seem to be slightly higher than that for dangerous trips which is around 18m/s. \n"
   ]
  },
  {
   "cell_type": "markdown",
   "metadata": {},
   "source": [
    "## Pie chart"
   ]
  },
  {
   "cell_type": "code",
   "execution_count": 4,
   "metadata": {},
   "outputs": [
    {
     "data": {
      "image/png": "[encoded data removed]",
      "text/plain": [
       "<Figure size 432x288 with 1 Axes>"
      ]
     },
     "metadata": {},
     "output_type": "display_data"
    }
   ],
   "source": [
    "sizes = labelsdf['label'].value_counts()\n",
    "fig1, ax1 = plt.subplots()\n",
    "ax1.pie(sizes,  autopct='%1.1f%%', labels = ['Safe' , 'Dangerous'])\n",
    "plt.show()"
   ]
  },
  {
   "cell_type": "markdown",
   "metadata": {},
   "source": [
    "The pie chart shows that ¾ of the trips are safe and ¼ of it are dangerous. This suggests that there is a 24.9% chance of a trip being dangerous and 25% probability is a very high chance for a Taxi company. The company should decrease their chances of a dangerous trip to maximum 5% so that the passengers feel safer in the taxis."
   ]
  },
  {
   "cell_type": "markdown",
   "metadata": {},
   "source": [
    "## Histogram of duration of trips for all bookingID"
   ]
  },
  {
   "cell_type": "code",
   "execution_count": 33,
   "metadata": {},
   "outputs": [
    {
     "data": {
      "image/png": "[encoded data removed]",
      "text/plain": [
       "<Figure size 432x288 with 1 Axes>"
      ]
     },
     "metadata": {
      "needs_background": "light"
     },
     "output_type": "display_data"
    }
   ],
   "source": [
    "bookingids = df['bookingID'].unique() # get all the bookingids that have null values inside them\n",
    "duration = []\n",
    "for bookingid in bookingids: #loop for each bookingid so that we are dealing with the null values bookingid by bookingid which is easier to work with\n",
    "    bookingidx = df[df['bookingID']==bookingid] # making a datfarame with bookingID = x\n",
    "    column = bookingidx[\"second\"]\n",
    "    max_value = column.max()\n",
    "    duration.append(max_value)\n",
    "ax = sns.histplot(duration)\n",
    "ax.set(xlabel='Seconds', ylabel='Count')\n",
    "plt.show()"
   ]
  },
  {
   "cell_type": "markdown",
   "metadata": {},
   "source": [
    "The histogram shows the distribution of the duration of trips made in this dataset. As you can see, the histogram is skewed to the right. Most of the trips last for around 1000 seconds. There are fewer longer trips that last up to 8000 seconds. "
   ]
  }
 ],
 "metadata": {
  "interpreter": {
   "hash": "2db524e06e9f5f4ffedc911c917cb75e12dbc923643829bf417064a77eb14d37"
  },
  "kernelspec": {
   "display_name": "Python 3",
   "language": "python",
   "name": "python3"
  },
  "language_info": {
   "codemirror_mode": {
    "name": "ipython",
    "version": 3
   },
   "file_extension": ".py",
   "mimetype": "text/x-python",
   "name": "python",
   "nbconvert_exporter": "python",
   "pygments_lexer": "ipython3",
   "version": "3.8.2"
  }
 },
 "nbformat": 4,
 "nbformat_minor": 2
}
